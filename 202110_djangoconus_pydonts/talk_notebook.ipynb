{
 "cells": [
  {
   "cell_type": "code",
   "execution_count": 1,
   "id": "appropriate-assembly",
   "metadata": {},
   "outputs": [],
   "source": [
    "def my_func(a):\n",
    "    empty=[]\n",
    "    for i in range(len(a)):\n",
    "        if i%2==0:\n",
    "            empty.append(a[i].upper())\n",
    "        else:\n",
    "            empty.append(a[i].lower())\n",
    "    return \"\".join(empty)"
   ]
  },
  {
   "cell_type": "code",
   "execution_count": 2,
   "id": "connected-development",
   "metadata": {},
   "outputs": [
    {
     "name": "stdout",
     "output_type": "stream",
     "text": [
      "DjAnGo sUcKs\n",
      "fLaSk iS BeTtEr\n"
     ]
    }
   ],
   "source": [
    "print(my_func(\"Django sucks\\nFlask is better\"))"
   ]
  },
  {
   "cell_type": "code",
   "execution_count": 3,
   "id": "loving-potential",
   "metadata": {},
   "outputs": [],
   "source": [
    "def my_func(a):\n",
    "    empty = []\n",
    "    for i in range(len(a)):\n",
    "        if i % 2 == 0:\n",
    "            empty.append(a[i].upper())\n",
    "        else:\n",
    "            empty.append(a[i].lower())\n",
    "\n",
    "    return \"\".join(empty)"
   ]
  },
  {
   "cell_type": "code",
   "execution_count": 4,
   "id": "southwest-ownership",
   "metadata": {},
   "outputs": [
    {
     "name": "stdout",
     "output_type": "stream",
     "text": [
      "DjAnGo sUcKs\n",
      "fLaSk iS BeTtEr\n"
     ]
    }
   ],
   "source": [
    "print(my_func(\"Django sucks\\nFlask is better\"))"
   ]
  },
  {
   "cell_type": "code",
   "execution_count": 5,
   "id": "trying-virgin",
   "metadata": {},
   "outputs": [],
   "source": [
    "def alternate_casing(text):\n",
    "    chars = []\n",
    "    for idx in range(len(text)):\n",
    "        if idx % 2 == 0:\n",
    "            chars.append(text[idx].upper())\n",
    "        else:\n",
    "            chars.append(text[idx].lower())\n",
    "\n",
    "    return \"\".join(chars)"
   ]
  },
  {
   "cell_type": "code",
   "execution_count": 6,
   "id": "speaking-force",
   "metadata": {},
   "outputs": [
    {
     "name": "stdout",
     "output_type": "stream",
     "text": [
      "DjAnGo sUcKs\n",
      "fLaSk iS BeTtEr\n"
     ]
    }
   ],
   "source": [
    "print(my_func(\"Django sucks\\nFlask is better\"))"
   ]
  },
  {
   "cell_type": "code",
   "execution_count": 7,
   "id": "julian-escape",
   "metadata": {},
   "outputs": [
    {
     "data": {
      "text/plain": [
       "enumerate"
      ]
     },
     "execution_count": 7,
     "metadata": {},
     "output_type": "execute_result"
    }
   ],
   "source": [
    "enumerate"
   ]
  },
  {
   "cell_type": "code",
   "execution_count": 8,
   "id": "distinct-bridge",
   "metadata": {},
   "outputs": [],
   "source": [
    "my_list = [0, 73, 42]"
   ]
  },
  {
   "cell_type": "code",
   "execution_count": 9,
   "id": "integrated-immigration",
   "metadata": {},
   "outputs": [
    {
     "name": "stdout",
     "output_type": "stream",
     "text": [
      "0\n",
      "73\n",
      "42\n"
     ]
    }
   ],
   "source": [
    "for i in range(len(my_list)):\n",
    "    print(my_list[i])"
   ]
  },
  {
   "cell_type": "code",
   "execution_count": 10,
   "id": "final-hollow",
   "metadata": {},
   "outputs": [
    {
     "name": "stdout",
     "output_type": "stream",
     "text": [
      "0\n",
      "73\n",
      "42\n"
     ]
    }
   ],
   "source": [
    "for elem in my_list:\n",
    "    print(elem)"
   ]
  },
  {
   "cell_type": "code",
   "execution_count": 11,
   "id": "split-order",
   "metadata": {},
   "outputs": [
    {
     "name": "stdout",
     "output_type": "stream",
     "text": [
      "0 0\n",
      "1 73\n",
      "2 42\n"
     ]
    }
   ],
   "source": [
    "for i in range(len(my_list)):\n",
    "    print(i, my_list[i])"
   ]
  },
  {
   "cell_type": "code",
   "execution_count": 12,
   "id": "foreign-monthly",
   "metadata": {},
   "outputs": [
    {
     "name": "stdout",
     "output_type": "stream",
     "text": [
      "0 0\n",
      "1 73\n",
      "2 42\n"
     ]
    }
   ],
   "source": [
    "for idx, elem in enumerate(my_list):\n",
    "    print(idx, elem)"
   ]
  },
  {
   "cell_type": "code",
   "execution_count": 14,
   "id": "structural-korea",
   "metadata": {},
   "outputs": [
    {
     "data": {
      "text/plain": [
       "[(0, 0), (1, 73), (2, 42)]"
      ]
     },
     "execution_count": 14,
     "metadata": {},
     "output_type": "execute_result"
    }
   ],
   "source": [
    "list(enumerate(my_list))"
   ]
  },
  {
   "cell_type": "code",
   "execution_count": 15,
   "id": "grand-diamond",
   "metadata": {},
   "outputs": [],
   "source": [
    "def alternate_casing(text):\n",
    "    chars = []\n",
    "    for idx, char in enumerate(text):\n",
    "        if idx % 2 == 0:\n",
    "            chars.append(char.upper())\n",
    "        else:\n",
    "            chars.append(char.lower())\n",
    "\n",
    "    return \"\".join(chars)"
   ]
  },
  {
   "cell_type": "code",
   "execution_count": 16,
   "id": "minute-singapore",
   "metadata": {},
   "outputs": [
    {
     "name": "stdout",
     "output_type": "stream",
     "text": [
      "DjAnGo sUcKs\n",
      "fLaSk iS BeTtEr\n"
     ]
    }
   ],
   "source": [
    "print(my_func(\"Django sucks\\nFlask is better\"))"
   ]
  },
  {
   "cell_type": "code",
   "execution_count": 17,
   "id": "economic-silence",
   "metadata": {},
   "outputs": [
    {
     "name": "stdout",
     "output_type": "stream",
     "text": [
      "The Zen of Python, by Tim Peters\n",
      "\n",
      "Beautiful is better than ugly.\n",
      "Explicit is better than implicit.\n",
      "Simple is better than complex.\n",
      "Complex is better than complicated.\n",
      "Flat is better than nested.\n",
      "Sparse is better than dense.\n",
      "Readability counts.\n",
      "Special cases aren't special enough to break the rules.\n",
      "Although practicality beats purity.\n",
      "Errors should never pass silently.\n",
      "Unless explicitly silenced.\n",
      "In the face of ambiguity, refuse the temptation to guess.\n",
      "There should be one-- and preferably only one --obvious way to do it.\n",
      "Although that way may not be obvious at first unless you're Dutch.\n",
      "Now is better than never.\n",
      "Although never is often better than *right* now.\n",
      "If the implementation is hard to explain, it's a bad idea.\n",
      "If the implementation is easy to explain, it may be a good idea.\n",
      "Namespaces are one honking great idea -- let's do more of those!\n"
     ]
    }
   ],
   "source": [
    "import this"
   ]
  },
  {
   "cell_type": "code",
   "execution_count": 20,
   "id": "fallen-aerospace",
   "metadata": {},
   "outputs": [],
   "source": [
    "my_list = []"
   ]
  },
  {
   "cell_type": "code",
   "execution_count": 21,
   "id": "lyric-exception",
   "metadata": {},
   "outputs": [
    {
     "name": "stdout",
     "output_type": "stream",
     "text": [
      "My list is empty!\n"
     ]
    }
   ],
   "source": [
    "try:\n",
    "    last = my_list[-1]\n",
    "except IndexError:\n",
    "    print(\"My list is empty!\")"
   ]
  },
  {
   "cell_type": "code",
   "execution_count": 19,
   "id": "fuzzy-priest",
   "metadata": {},
   "outputs": [
    {
     "data": {
      "text/plain": [
       "42"
      ]
     },
     "execution_count": 19,
     "metadata": {},
     "output_type": "execute_result"
    }
   ],
   "source": [
    "last"
   ]
  },
  {
   "cell_type": "code",
   "execution_count": 23,
   "id": "unlikely-carroll",
   "metadata": {},
   "outputs": [],
   "source": [
    "_ = \"\"\"\n",
    "preprocessing()\n",
    "try:\n",
    "    last = my_list[-1]\n",
    "except IndexError:\n",
    "    print(\"My list is empty!\")\n",
    "    clean_up()\n",
    "postprocessing()\n",
    "\"\"\""
   ]
  },
  {
   "cell_type": "code",
   "execution_count": 24,
   "id": "narrative-driver",
   "metadata": {},
   "outputs": [],
   "source": [
    "_ = \"\"\"\n",
    "with open(\"c:/tmp/some_file.txt\") as f:\n",
    "    contents = f.readlines()\n",
    "\n",
    "lengths = [len(line) for line in contents]\n",
    "print(f\"The longest line has length {max(lengths)}.\")\n",
    "\"\"\""
   ]
  },
  {
   "cell_type": "code",
   "execution_count": 25,
   "id": "whole-perry",
   "metadata": {},
   "outputs": [],
   "source": [
    "def alternate_casing(text):\n",
    "    chars = []\n",
    "    for idx, char in enumerate(text):\n",
    "        if idx % 2 == 0:\n",
    "            char_ = char.upper()\n",
    "        else:\n",
    "            char_ = char.lower()\n",
    "        chars.append(char_)\n",
    "\n",
    "    return \"\".join(chars)"
   ]
  },
  {
   "cell_type": "code",
   "execution_count": 26,
   "id": "protective-chaos",
   "metadata": {},
   "outputs": [
    {
     "name": "stdout",
     "output_type": "stream",
     "text": [
      "DjAnGo sUcKs\n",
      "fLaSk iS BeTtEr\n"
     ]
    }
   ],
   "source": [
    "print(my_func(\"Django sucks\\nFlask is better\"))"
   ]
  },
  {
   "cell_type": "code",
   "execution_count": 27,
   "id": "tough-fancy",
   "metadata": {},
   "outputs": [],
   "source": [
    "from itertools import cycle"
   ]
  },
  {
   "cell_type": "code",
   "execution_count": 28,
   "id": "accepted-proceeding",
   "metadata": {},
   "outputs": [
    {
     "name": "stdout",
     "output_type": "stream",
     "text": [
      "Help on class cycle in module itertools:\n",
      "\n",
      "class cycle(builtins.object)\n",
      " |  cycle(iterable, /)\n",
      " |  \n",
      " |  Return elements from the iterable until it is exhausted. Then repeat the sequence indefinitely.\n",
      " |  \n",
      " |  Methods defined here:\n",
      " |  \n",
      " |  __getattribute__(self, name, /)\n",
      " |      Return getattr(self, name).\n",
      " |  \n",
      " |  __iter__(self, /)\n",
      " |      Implement iter(self).\n",
      " |  \n",
      " |  __next__(self, /)\n",
      " |      Implement next(self).\n",
      " |  \n",
      " |  __reduce__(...)\n",
      " |      Return state information for pickling.\n",
      " |  \n",
      " |  __setstate__(...)\n",
      " |      Set state information for unpickling.\n",
      " |  \n",
      " |  ----------------------------------------------------------------------\n",
      " |  Static methods defined here:\n",
      " |  \n",
      " |  __new__(*args, **kwargs) from builtins.type\n",
      " |      Create and return a new object.  See help(type) for accurate signature.\n",
      "\n"
     ]
    }
   ],
   "source": [
    "help(cycle)"
   ]
  },
  {
   "cell_type": "code",
   "execution_count": 29,
   "id": "respective-seven",
   "metadata": {},
   "outputs": [],
   "source": [
    "c = cycle(\"ab\")"
   ]
  },
  {
   "cell_type": "code",
   "execution_count": 31,
   "id": "sonic-horse",
   "metadata": {},
   "outputs": [
    {
     "name": "stdout",
     "output_type": "stream",
     "text": [
      "0 a\n",
      "1 b\n",
      "2 a\n",
      "3 b\n",
      "4 a\n",
      "5 b\n",
      "6 a\n",
      "7 b\n",
      "8 a\n",
      "9 b\n"
     ]
    }
   ],
   "source": [
    "for idx, elem in zip(range(10), c):\n",
    "    print(idx, elem)"
   ]
  },
  {
   "cell_type": "code",
   "execution_count": 32,
   "id": "fluid-basic",
   "metadata": {},
   "outputs": [],
   "source": [
    "funcs = [\n",
    "    lambda char: char.upper(),\n",
    "    lambda char: char.lower(),\n",
    "]"
   ]
  },
  {
   "cell_type": "code",
   "execution_count": 33,
   "id": "delayed-slovak",
   "metadata": {},
   "outputs": [],
   "source": [
    "def alternate_casing(text):\n",
    "    chars = []\n",
    "    for char, func in zip(text, cycle(funcs)):\n",
    "        chars.append(func(char))\n",
    "\n",
    "    return \"\".join(chars)"
   ]
  },
  {
   "cell_type": "code",
   "execution_count": 34,
   "id": "imposed-brass",
   "metadata": {
    "scrolled": true
   },
   "outputs": [
    {
     "name": "stdout",
     "output_type": "stream",
     "text": [
      "DjAnGo sUcKs\n",
      "fLaSk iS BeTtEr\n"
     ]
    }
   ],
   "source": [
    "print(my_func(\"Django sucks\\nFlask is better\"))"
   ]
  },
  {
   "cell_type": "code",
   "execution_count": 35,
   "id": "dress-valuable",
   "metadata": {},
   "outputs": [
    {
     "data": {
      "text/plain": [
       "'HELLO, WORLD!'"
      ]
     },
     "execution_count": 35,
     "metadata": {},
     "output_type": "execute_result"
    }
   ],
   "source": [
    "\"Hello, world!\".upper()"
   ]
  },
  {
   "cell_type": "code",
   "execution_count": 37,
   "id": "passing-hammer",
   "metadata": {},
   "outputs": [
    {
     "data": {
      "text/plain": [
       "'HELLO, WORLD!'"
      ]
     },
     "execution_count": 37,
     "metadata": {},
     "output_type": "execute_result"
    }
   ],
   "source": [
    "str.upper(\"Hello, world!\")"
   ]
  },
  {
   "cell_type": "code",
   "execution_count": 38,
   "id": "august-sarah",
   "metadata": {},
   "outputs": [
    {
     "data": {
      "text/plain": [
       "<method 'upper' of 'str' objects>"
      ]
     },
     "execution_count": 38,
     "metadata": {},
     "output_type": "execute_result"
    }
   ],
   "source": [
    "str.upper"
   ]
  },
  {
   "cell_type": "code",
   "execution_count": 39,
   "id": "serial-ivory",
   "metadata": {},
   "outputs": [],
   "source": [
    "def alternate_casing(text):\n",
    "    chars = []\n",
    "    funcs = [str.upper, str.lower]\n",
    "    for char, func in zip(text, cycle(funcs)):\n",
    "        chars.append(func(char))\n",
    "\n",
    "    return \"\".join(chars)"
   ]
  },
  {
   "cell_type": "code",
   "execution_count": 40,
   "id": "featured-significance",
   "metadata": {},
   "outputs": [
    {
     "name": "stdout",
     "output_type": "stream",
     "text": [
      "DjAnGo sUcKs\n",
      "fLaSk iS BeTtEr\n"
     ]
    }
   ],
   "source": [
    "print(my_func(\"Django sucks\\nFlask is better\"))"
   ]
  },
  {
   "cell_type": "markdown",
   "id": "violent-poetry",
   "metadata": {},
   "source": [
    "# Final version of the code"
   ]
  },
  {
   "cell_type": "code",
   "execution_count": 42,
   "id": "accurate-cross",
   "metadata": {},
   "outputs": [],
   "source": [
    "from itertools import cycle\n",
    "\n",
    "def alternate_casing(text):\n",
    "    chars = []\n",
    "    funcs = [str.upper, str.lower]\n",
    "    for char, func in zip(text, cycle(funcs)):\n",
    "        chars.append(func(char))\n",
    "\n",
    "    return \"\".join(chars)"
   ]
  },
  {
   "cell_type": "code",
   "execution_count": null,
   "id": "supported-ebony",
   "metadata": {},
   "outputs": [],
   "source": []
  }
 ],
 "metadata": {
  "kernelspec": {
   "display_name": "Python 3",
   "language": "python",
   "name": "python3"
  },
  "language_info": {
   "codemirror_mode": {
    "name": "ipython",
    "version": 3
   },
   "file_extension": ".py",
   "mimetype": "text/x-python",
   "name": "python",
   "nbconvert_exporter": "python",
   "pygments_lexer": "ipython3",
   "version": "3.8.5"
  }
 },
 "nbformat": 4,
 "nbformat_minor": 5
}
