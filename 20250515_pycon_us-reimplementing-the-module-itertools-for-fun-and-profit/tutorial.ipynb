{
 "cells": [
  {
   "cell_type": "markdown",
   "id": "ba975e0e-40fe-4425-86b1-04bbeb182964",
   "metadata": {},
   "source": [
    "# Tutorial"
   ]
  },
  {
   "cell_type": "code",
   "execution_count": 1,
   "id": "bc13bb22-a7b0-4e5e-ac8b-a2665e46160c",
   "metadata": {},
   "outputs": [
    {
     "name": "stdout",
     "output_type": "stream",
     "text": [
      "Hello, world!\n"
     ]
    }
   ],
   "source": [
    "print(\"Hello, world!\")"
   ]
  },
  {
   "cell_type": "code",
   "execution_count": 3,
   "id": "13dc618c-d5d3-43fe-b798-5bc9504c7010",
   "metadata": {},
   "outputs": [
    {
     "data": {
      "text/plain": [
       "range(0, 10)"
      ]
     },
     "execution_count": 3,
     "metadata": {},
     "output_type": "execute_result"
    }
   ],
   "source": [
    "range(10)"
   ]
  },
  {
   "cell_type": "code",
   "execution_count": 4,
   "id": "8dc370ce-1e8a-4d28-891f-49f5c3c9ab9b",
   "metadata": {},
   "outputs": [
    {
     "data": {
      "text/plain": [
       "range(0, 999999999999999999999999999)"
      ]
     },
     "execution_count": 4,
     "metadata": {},
     "output_type": "execute_result"
    }
   ],
   "source": [
    "range(999_999_999_999_999_999_999_999_999)"
   ]
  },
  {
   "cell_type": "code",
   "execution_count": 5,
   "id": "722a4427-d239-40e9-b3cf-6035836e2d63",
   "metadata": {},
   "outputs": [],
   "source": [
    "def one_two_three():\n",
    "    return 1\n",
    "    return 2\n",
    "    return 3"
   ]
  },
  {
   "cell_type": "code",
   "execution_count": 6,
   "id": "f1d09aeb-17f2-472e-bf2d-9d00fd38e8ac",
   "metadata": {},
   "outputs": [
    {
     "data": {
      "text/plain": [
       "1"
      ]
     },
     "execution_count": 6,
     "metadata": {},
     "output_type": "execute_result"
    }
   ],
   "source": [
    "one_two_three()"
   ]
  },
  {
   "cell_type": "markdown",
   "id": "954098bd-906c-46c4-9022-64d1aecf4b49",
   "metadata": {},
   "source": [
    "# `yield`"
   ]
  },
  {
   "cell_type": "code",
   "execution_count": 7,
   "id": "b8753058-7e4c-47d4-9f08-3460ebc67554",
   "metadata": {},
   "outputs": [],
   "source": [
    "def one_two_three():\n",
    "    yield 1\n",
    "    yield 2\n",
    "    yield 3"
   ]
  },
  {
   "cell_type": "code",
   "execution_count": 8,
   "id": "7c65fc08-99ea-49e7-947a-9177b05b1b02",
   "metadata": {},
   "outputs": [
    {
     "data": {
      "text/plain": [
       "<generator object one_two_three at 0x103715fe0>"
      ]
     },
     "execution_count": 8,
     "metadata": {},
     "output_type": "execute_result"
    }
   ],
   "source": [
    "one_two_three()"
   ]
  },
  {
   "cell_type": "code",
   "execution_count": 9,
   "id": "2db4327d-27d8-4ecc-8eb3-d1ff3a561131",
   "metadata": {},
   "outputs": [],
   "source": [
    "generator = one_two_three()"
   ]
  },
  {
   "cell_type": "code",
   "execution_count": 10,
   "id": "c11a703a-f2fc-4762-bbbb-0b3f4c15ba6e",
   "metadata": {},
   "outputs": [
    {
     "data": {
      "text/plain": [
       "1"
      ]
     },
     "execution_count": 10,
     "metadata": {},
     "output_type": "execute_result"
    }
   ],
   "source": [
    "next(generator)"
   ]
  },
  {
   "cell_type": "code",
   "execution_count": 11,
   "id": "a0e0a73e-ad4a-44cd-956f-eb697ea00b06",
   "metadata": {},
   "outputs": [
    {
     "data": {
      "text/plain": [
       "2"
      ]
     },
     "execution_count": 11,
     "metadata": {},
     "output_type": "execute_result"
    }
   ],
   "source": [
    "next(generator)"
   ]
  },
  {
   "cell_type": "code",
   "execution_count": 12,
   "id": "3c3d8dad-e098-4309-acf0-4b5375b4e232",
   "metadata": {},
   "outputs": [
    {
     "data": {
      "text/plain": [
       "3"
      ]
     },
     "execution_count": 12,
     "metadata": {},
     "output_type": "execute_result"
    }
   ],
   "source": [
    "next(generator)"
   ]
  },
  {
   "cell_type": "code",
   "execution_count": 13,
   "id": "74d4d4a0-7466-4af3-baca-c695de023f07",
   "metadata": {},
   "outputs": [],
   "source": [
    "def one_two_three():\n",
    "    print(\"At the top!\")\n",
    "    yield 1\n",
    "    yield 2\n",
    "    yield 3"
   ]
  },
  {
   "cell_type": "code",
   "execution_count": 14,
   "id": "fbb73095-c153-447a-943b-068dd86a75fd",
   "metadata": {},
   "outputs": [],
   "source": [
    "generator = one_two_three()"
   ]
  },
  {
   "cell_type": "code",
   "execution_count": 15,
   "id": "f4a79423-adab-44a8-b732-18ccb24c34d5",
   "metadata": {},
   "outputs": [
    {
     "name": "stdout",
     "output_type": "stream",
     "text": [
      "0\n",
      "1\n",
      "2\n",
      "3\n",
      "4\n"
     ]
    }
   ],
   "source": [
    "for number in range(5):\n",
    "    print(number)"
   ]
  },
  {
   "cell_type": "code",
   "execution_count": 16,
   "id": "8b82fdd7-189a-46af-96ec-dbffc04fd9e1",
   "metadata": {},
   "outputs": [
    {
     "name": "stdout",
     "output_type": "stream",
     "text": [
      "At the top!\n",
      "1\n",
      "2\n",
      "3\n"
     ]
    }
   ],
   "source": [
    "for number in one_two_three():\n",
    "    print(number)"
   ]
  },
  {
   "cell_type": "markdown",
   "id": "b19257bc-3829-4371-a0bf-1e61e96ff0ed",
   "metadata": {},
   "source": [
    "# `itertools.count`\n",
    "\n",
    " - Try to implement `my_range(stop)` as a generator.\n",
    " - Try to implement `count()` that counts all the way up to infinity."
   ]
  },
  {
   "cell_type": "markdown",
   "id": "5ca388a5-2a52-46d4-b010-16ee3c636478",
   "metadata": {},
   "source": [
    "- Write a (regular) function `my_range(stop)` that builds and returns a list with all the numbers from `0` to `stop - 1` inclusive."
   ]
  },
  {
   "cell_type": "code",
   "execution_count": 17,
   "id": "ae210148-65f6-4737-9b80-79c141a371c8",
   "metadata": {},
   "outputs": [],
   "source": [
    "def my_range(stop):\n",
    "    result = []\n",
    "    number = 0\n",
    "    while number < stop:\n",
    "        result.append(number)\n",
    "        number += 1\n",
    "    return result"
   ]
  },
  {
   "cell_type": "markdown",
   "id": "063bb7d3-32fb-49cc-ad31-fd22aef28943",
   "metadata": {},
   "source": [
    "1. Get rid of the result list initialisation.\n",
    "2. Get rid of the final return.\n",
    "3. You turn `.append(value)` into `yield value`."
   ]
  },
  {
   "cell_type": "code",
   "execution_count": 18,
   "id": "18a61a5d-5dca-43c4-b019-653efb34db3b",
   "metadata": {},
   "outputs": [],
   "source": [
    "def my_range(stop):\n",
    "    # result = []\n",
    "    number = 0\n",
    "    while number < stop:\n",
    "        yield number\n",
    "        number += 1\n",
    "    # return result"
   ]
  },
  {
   "cell_type": "code",
   "execution_count": 19,
   "id": "27a026a4-ddfb-4403-99a4-9b56db0651fc",
   "metadata": {},
   "outputs": [
    {
     "data": {
      "text/plain": [
       "<generator object my_range at 0x1034e3100>"
      ]
     },
     "execution_count": 19,
     "metadata": {},
     "output_type": "execute_result"
    }
   ],
   "source": [
    "my_range(99999999999999999999999999999999999999999999)"
   ]
  },
  {
   "cell_type": "markdown",
   "id": "ea5a6427-354b-40bc-a230-d881683a85b2",
   "metadata": {},
   "source": [
    "# `itertools.count`"
   ]
  },
  {
   "cell_type": "code",
   "execution_count": 20,
   "id": "6cc53a58-8cd8-401a-baad-c23281e0e597",
   "metadata": {},
   "outputs": [],
   "source": [
    "def count(start=0, step=1):\n",
    "    # result = []\n",
    "    value = start\n",
    "    while True:\n",
    "        yield value\n",
    "        value += step\n",
    "    # return result"
   ]
  },
  {
   "cell_type": "code",
   "execution_count": 21,
   "id": "387bce54-ac41-481f-aa8f-c77d79e3bfd4",
   "metadata": {},
   "outputs": [],
   "source": [
    "counter = count()"
   ]
  },
  {
   "cell_type": "code",
   "execution_count": 22,
   "id": "37f9dbc7-8f6e-4dfa-bde2-127a8957ed02",
   "metadata": {},
   "outputs": [
    {
     "data": {
      "text/plain": [
       "<generator object count at 0x103739970>"
      ]
     },
     "execution_count": 22,
     "metadata": {},
     "output_type": "execute_result"
    }
   ],
   "source": [
    "counter"
   ]
  },
  {
   "cell_type": "code",
   "execution_count": 23,
   "id": "08c84e08-823b-4bfc-879d-a61ef8c79fe7",
   "metadata": {},
   "outputs": [
    {
     "data": {
      "text/plain": [
       "0"
      ]
     },
     "execution_count": 23,
     "metadata": {},
     "output_type": "execute_result"
    }
   ],
   "source": [
    "next(counter)"
   ]
  },
  {
   "cell_type": "code",
   "execution_count": 24,
   "id": "57336265-b7c0-441c-8225-ac3de8128f0f",
   "metadata": {},
   "outputs": [
    {
     "data": {
      "text/plain": [
       "1"
      ]
     },
     "execution_count": 24,
     "metadata": {},
     "output_type": "execute_result"
    }
   ],
   "source": [
    "next(counter)"
   ]
  },
  {
   "cell_type": "code",
   "execution_count": 25,
   "id": "b62fe191-23cb-4adf-943d-fa9610658db6",
   "metadata": {},
   "outputs": [
    {
     "data": {
      "text/plain": [
       "2"
      ]
     },
     "execution_count": 25,
     "metadata": {},
     "output_type": "execute_result"
    }
   ],
   "source": [
    "next(counter)"
   ]
  },
  {
   "cell_type": "code",
   "execution_count": 26,
   "id": "ca0c6c77-cfd6-4fa0-8f15-237c07003ba6",
   "metadata": {},
   "outputs": [
    {
     "data": {
      "text/plain": [
       "3"
      ]
     },
     "execution_count": 26,
     "metadata": {},
     "output_type": "execute_result"
    }
   ],
   "source": [
    "next(counter)"
   ]
  },
  {
   "cell_type": "code",
   "execution_count": 27,
   "id": "edbfbf3f-bbc1-455c-8d43-dd8d827b78f8",
   "metadata": {},
   "outputs": [
    {
     "data": {
      "text/plain": [
       "4"
      ]
     },
     "execution_count": 27,
     "metadata": {},
     "output_type": "execute_result"
    }
   ],
   "source": [
    "next(counter)"
   ]
  },
  {
   "cell_type": "code",
   "execution_count": 28,
   "id": "98e797b1-214c-464a-9614-36b9c0516147",
   "metadata": {},
   "outputs": [
    {
     "data": {
      "text/plain": [
       "5"
      ]
     },
     "execution_count": 28,
     "metadata": {},
     "output_type": "execute_result"
    }
   ],
   "source": [
    "next(counter)"
   ]
  },
  {
   "cell_type": "code",
   "execution_count": null,
   "id": "c41278a6-d5da-4ce9-aada-b24a63cffacb",
   "metadata": {},
   "outputs": [],
   "source": [
    "for number in counter:\n",
    "    print(number)"
   ]
  },
  {
   "cell_type": "code",
   "execution_count": 30,
   "id": "bf9d8562-3374-4cae-b882-0e9dbdf28351",
   "metadata": {},
   "outputs": [
    {
     "data": {
      "text/plain": [
       "<function __main__.my_range(stop)>"
      ]
     },
     "execution_count": 30,
     "metadata": {},
     "output_type": "execute_result"
    }
   ],
   "source": [
    "my_range"
   ]
  },
  {
   "cell_type": "code",
   "execution_count": 32,
   "id": "b1ea106c-d877-4dda-bd39-b94efa719443",
   "metadata": {},
   "outputs": [
    {
     "data": {
      "text/plain": [
       "[0, 1, 2, 3, 4, 5, 6, 7, 8, 9]"
      ]
     },
     "execution_count": 32,
     "metadata": {},
     "output_type": "execute_result"
    }
   ],
   "source": [
    "list(my_range(10))"
   ]
  },
  {
   "cell_type": "code",
   "execution_count": 33,
   "id": "6678b927-fb1c-4fb3-bdb9-ed41765a5400",
   "metadata": {},
   "outputs": [
    {
     "data": {
      "text/plain": [
       "[0, 1, 2, 3, 4, 5, 6, 7, 8, 9]"
      ]
     },
     "execution_count": 33,
     "metadata": {},
     "output_type": "execute_result"
    }
   ],
   "source": [
    "list(my_range(10))"
   ]
  },
  {
   "cell_type": "code",
   "execution_count": 34,
   "id": "8f7a3414-6e73-492a-a498-39bd875fbbbb",
   "metadata": {},
   "outputs": [],
   "source": [
    "zero_through_nine = my_range(10)"
   ]
  },
  {
   "cell_type": "code",
   "execution_count": 35,
   "id": "ef169957-453d-4f92-996a-0bceab9460ba",
   "metadata": {},
   "outputs": [
    {
     "data": {
      "text/plain": [
       "[0, 1, 2, 3, 4, 5, 6, 7, 8, 9]"
      ]
     },
     "execution_count": 35,
     "metadata": {},
     "output_type": "execute_result"
    }
   ],
   "source": [
    "list(zero_through_nine)"
   ]
  },
  {
   "cell_type": "code",
   "execution_count": 36,
   "id": "26082c9c-d92d-463e-834b-379d9da8f13c",
   "metadata": {},
   "outputs": [
    {
     "data": {
      "text/plain": [
       "[]"
      ]
     },
     "execution_count": 36,
     "metadata": {},
     "output_type": "execute_result"
    }
   ],
   "source": [
    "list(zero_through_nine)"
   ]
  },
  {
   "cell_type": "code",
   "execution_count": 37,
   "id": "f4d6612f-e048-4984-9969-1146b2c96606",
   "metadata": {},
   "outputs": [
    {
     "data": {
      "text/plain": [
       "<generator object my_range at 0x1037a0c40>"
      ]
     },
     "execution_count": 37,
     "metadata": {},
     "output_type": "execute_result"
    }
   ],
   "source": [
    "zero_through_nine"
   ]
  },
  {
   "cell_type": "markdown",
   "id": "e4d83657-8caf-4779-a37d-1812d52dbeb5",
   "metadata": {},
   "source": [
    "# `itertools.cycle` & `itertools.repeat`\n",
    "\n",
    "- `repeat(value, n)` and it produces the given value as many times as requested."
   ]
  },
  {
   "cell_type": "code",
   "execution_count": 39,
   "id": "2f96dacf-1344-4a0c-8b3d-8db830bd1170",
   "metadata": {},
   "outputs": [
    {
     "data": {
      "text/plain": [
       "[True, True, True, True, True]"
      ]
     },
     "execution_count": 39,
     "metadata": {},
     "output_type": "execute_result"
    }
   ],
   "source": [
    "from itertools import repeat\n",
    "\n",
    "list(repeat(True, 5))"
   ]
  },
  {
   "cell_type": "code",
   "execution_count": null,
   "id": "152e5329-ed1f-43ef-9b59-d186a1cb655c",
   "metadata": {},
   "outputs": [],
   "source": [
    "for b in repeat(True):\n",
    "    print(b)"
   ]
  },
  {
   "cell_type": "code",
   "execution_count": 42,
   "id": "c472eb70-37e6-4ec0-8c75-48d654213ed4",
   "metadata": {},
   "outputs": [
    {
     "name": "stdout",
     "output_type": "stream",
     "text": [
      "1\n",
      "2\n",
      "3\n",
      "1\n",
      "2\n",
      "3\n",
      "1\n",
      "2\n",
      "3\n",
      "1\n",
      "2\n",
      "3\n",
      "1\n",
      "2\n",
      "3\n",
      "1\n",
      "2\n",
      "3\n",
      "1\n",
      "2\n",
      "3\n"
     ]
    },
    {
     "ename": "KeyboardInterrupt",
     "evalue": "",
     "output_type": "error",
     "traceback": [
      "\u001b[31m---------------------------------------------------------------------------\u001b[39m",
      "\u001b[31mKeyboardInterrupt\u001b[39m                         Traceback (most recent call last)",
      "\u001b[36mCell\u001b[39m\u001b[36m \u001b[39m\u001b[32mIn[42]\u001b[39m\u001b[32m, line 6\u001b[39m\n\u001b[32m      4\u001b[39m \u001b[38;5;28;01mfor\u001b[39;00m number \u001b[38;5;129;01min\u001b[39;00m cycle([\u001b[32m1\u001b[39m, \u001b[32m2\u001b[39m, \u001b[32m3\u001b[39m]):\n\u001b[32m      5\u001b[39m     \u001b[38;5;28mprint\u001b[39m(number)\n\u001b[32m----> \u001b[39m\u001b[32m6\u001b[39m     \u001b[43msleep\u001b[49m\u001b[43m(\u001b[49m\u001b[32;43m1\u001b[39;49m\u001b[43m)\u001b[49m\n",
      "\u001b[31mKeyboardInterrupt\u001b[39m: "
     ]
    }
   ],
   "source": [
    "from itertools import cycle\n",
    "from time import sleep\n",
    "\n",
    "for number in cycle([1, 2, 3]):\n",
    "    print(number)\n",
    "    sleep(1)"
   ]
  },
  {
   "cell_type": "code",
   "execution_count": 53,
   "id": "70828f40-2324-41fd-a0a0-e146f1b8448d",
   "metadata": {},
   "outputs": [],
   "source": [
    "def cycle(iterable):\n",
    "    while True:\n",
    "        for value in iterable:\n",
    "            yield value"
   ]
  },
  {
   "cell_type": "code",
   "execution_count": 54,
   "id": "8947f4fe-4a40-4d3f-a571-d48d70b72991",
   "metadata": {},
   "outputs": [
    {
     "ename": "KeyboardInterrupt",
     "evalue": "",
     "output_type": "error",
     "traceback": [
      "\u001b[31m---------------------------------------------------------------------------\u001b[39m",
      "\u001b[31mKeyboardInterrupt\u001b[39m                         Traceback (most recent call last)",
      "\u001b[36mCell\u001b[39m\u001b[36m \u001b[39m\u001b[32mIn[54]\u001b[39m\u001b[32m, line 1\u001b[39m\n\u001b[32m----> \u001b[39m\u001b[32m1\u001b[39m \u001b[38;5;28;43mnext\u001b[39;49m\u001b[43m(\u001b[49m\u001b[43mcycle\u001b[49m\u001b[43m(\u001b[49m\u001b[43m[\u001b[49m\u001b[43m]\u001b[49m\u001b[43m)\u001b[49m\u001b[43m)\u001b[49m\n",
      "\u001b[36mCell\u001b[39m\u001b[36m \u001b[39m\u001b[32mIn[53]\u001b[39m\u001b[32m, line 2\u001b[39m, in \u001b[36mcycle\u001b[39m\u001b[34m(iterable)\u001b[39m\n\u001b[32m      1\u001b[39m \u001b[38;5;28;01mdef\u001b[39;00m\u001b[38;5;250m \u001b[39m\u001b[34mcycle\u001b[39m(iterable):\n\u001b[32m----> \u001b[39m\u001b[32m2\u001b[39m     \u001b[38;5;28;01mwhile\u001b[39;00m \u001b[38;5;28;01mTrue\u001b[39;00m:\n\u001b[32m      3\u001b[39m         \u001b[38;5;28;01mfor\u001b[39;00m value \u001b[38;5;129;01min\u001b[39;00m iterable:\n\u001b[32m      4\u001b[39m             \u001b[38;5;28;01myield\u001b[39;00m value\n",
      "\u001b[31mKeyboardInterrupt\u001b[39m: "
     ]
    }
   ],
   "source": [
    "next(cycle([]))"
   ]
  },
  {
   "cell_type": "code",
   "execution_count": 55,
   "id": "3d16197a-6c1a-48a0-8fd1-2994a1c342bf",
   "metadata": {},
   "outputs": [],
   "source": [
    "my_list = [42, 73, 0, 16, 10]"
   ]
  },
  {
   "cell_type": "code",
   "execution_count": 56,
   "id": "2b49f2f2-e562-43db-a6e9-b54a1700c420",
   "metadata": {},
   "outputs": [
    {
     "name": "stdout",
     "output_type": "stream",
     "text": [
      "42\n",
      "73\n",
      "0\n",
      "16\n",
      "10\n"
     ]
    }
   ],
   "source": [
    "for number in my_list:\n",
    "    print(number)"
   ]
  },
  {
   "cell_type": "code",
   "execution_count": 57,
   "id": "eeed4283-ecd6-4d55-94f9-2bf91633140f",
   "metadata": {},
   "outputs": [
    {
     "data": {
      "text/plain": [
       "<list_iterator at 0x1038dea40>"
      ]
     },
     "execution_count": 57,
     "metadata": {},
     "output_type": "execute_result"
    }
   ],
   "source": [
    "iter(my_list)"
   ]
  },
  {
   "cell_type": "code",
   "execution_count": 58,
   "id": "59cbc02b-f155-4c2b-81cf-d45269908557",
   "metadata": {},
   "outputs": [
    {
     "ename": "TypeError",
     "evalue": "'int' object is not iterable",
     "output_type": "error",
     "traceback": [
      "\u001b[31m---------------------------------------------------------------------------\u001b[39m",
      "\u001b[31mTypeError\u001b[39m                                 Traceback (most recent call last)",
      "\u001b[36mCell\u001b[39m\u001b[36m \u001b[39m\u001b[32mIn[58]\u001b[39m\u001b[32m, line 1\u001b[39m\n\u001b[32m----> \u001b[39m\u001b[32m1\u001b[39m \u001b[38;5;28;43miter\u001b[39;49m\u001b[43m(\u001b[49m\u001b[32;43m15\u001b[39;49m\u001b[43m)\u001b[49m\n",
      "\u001b[31mTypeError\u001b[39m: 'int' object is not iterable"
     ]
    }
   ],
   "source": [
    "iter(15)"
   ]
  },
  {
   "cell_type": "code",
   "execution_count": 59,
   "id": "adafef3e-2894-420d-8dda-f859c583395c",
   "metadata": {},
   "outputs": [
    {
     "data": {
      "text/plain": [
       "<str_ascii_iterator at 0x10389b340>"
      ]
     },
     "execution_count": 59,
     "metadata": {},
     "output_type": "execute_result"
    }
   ],
   "source": [
    "iter(\"\")"
   ]
  },
  {
   "cell_type": "code",
   "execution_count": 60,
   "id": "9d8b95f6-8633-4ae0-9f19-7a14e955298f",
   "metadata": {},
   "outputs": [
    {
     "data": {
      "text/plain": [
       "<set_iterator at 0x103d4d0c0>"
      ]
     },
     "execution_count": 60,
     "metadata": {},
     "output_type": "execute_result"
    }
   ],
   "source": [
    "iter({1, 2, 3})"
   ]
  },
  {
   "cell_type": "markdown",
   "id": "b8ee9292-77e8-4ef7-b34b-0f744abdffb7",
   "metadata": {},
   "source": [
    "If an object can be used with `iter`, then you can use that object in a `for` loop."
   ]
  },
  {
   "cell_type": "markdown",
   "id": "c5d2dbe1-6e6a-4f8e-a5dc-806a493b281d",
   "metadata": {},
   "source": [
    "“Iterators” (wtv they are) power `for` loops."
   ]
  },
  {
   "cell_type": "markdown",
   "id": "121d6c8e-f189-4b56-a2a3-8ec6b2a11003",
   "metadata": {},
   "source": [
    "“Protocol” is a set of expectations.\n",
    "\n",
    "If an object meets said expectations, then the object can be used for that protocol."
   ]
  },
  {
   "cell_type": "markdown",
   "id": "dfdb3104-a983-4d05-a04a-5d315b7d7909",
   "metadata": {},
   "source": [
    "1. An iterator is an object that can produce values when `next` is called on it."
   ]
  },
  {
   "cell_type": "code",
   "execution_count": 61,
   "id": "244540d3-c641-47b9-a953-9e3237cb31e9",
   "metadata": {},
   "outputs": [],
   "source": [
    "my_iterator = iter(my_list)"
   ]
  },
  {
   "cell_type": "code",
   "execution_count": 62,
   "id": "ffd29f1e-fc06-474f-8b19-9f11d5c71602",
   "metadata": {},
   "outputs": [
    {
     "data": {
      "text/plain": [
       "42"
      ]
     },
     "execution_count": 62,
     "metadata": {},
     "output_type": "execute_result"
    }
   ],
   "source": [
    "next(my_iterator)"
   ]
  },
  {
   "cell_type": "code",
   "execution_count": 63,
   "id": "437cfadd-6d84-4538-bb47-9207f79883bc",
   "metadata": {},
   "outputs": [
    {
     "data": {
      "text/plain": [
       "73"
      ]
     },
     "execution_count": 63,
     "metadata": {},
     "output_type": "execute_result"
    }
   ],
   "source": [
    "next(my_iterator)"
   ]
  },
  {
   "cell_type": "code",
   "execution_count": 64,
   "id": "9c170641-4c13-4db5-a754-43439697efe0",
   "metadata": {},
   "outputs": [
    {
     "data": {
      "text/plain": [
       "0"
      ]
     },
     "execution_count": 64,
     "metadata": {},
     "output_type": "execute_result"
    }
   ],
   "source": [
    "next(my_iterator)"
   ]
  },
  {
   "cell_type": "code",
   "execution_count": 65,
   "id": "2953e321-6244-4371-b687-b4acf40c97ef",
   "metadata": {},
   "outputs": [
    {
     "data": {
      "text/plain": [
       "16"
      ]
     },
     "execution_count": 65,
     "metadata": {},
     "output_type": "execute_result"
    }
   ],
   "source": [
    "next(my_iterator)"
   ]
  },
  {
   "cell_type": "code",
   "execution_count": 66,
   "id": "264d068b-e245-4b06-afb9-3befaf2bd186",
   "metadata": {},
   "outputs": [
    {
     "data": {
      "text/plain": [
       "10"
      ]
     },
     "execution_count": 66,
     "metadata": {},
     "output_type": "execute_result"
    }
   ],
   "source": [
    "next(my_iterator)"
   ]
  },
  {
   "cell_type": "code",
   "execution_count": 67,
   "id": "0467f4bb-4128-4a82-8b9d-3131b45a67db",
   "metadata": {},
   "outputs": [
    {
     "ename": "StopIteration",
     "evalue": "",
     "output_type": "error",
     "traceback": [
      "\u001b[31m---------------------------------------------------------------------------\u001b[39m",
      "\u001b[31mStopIteration\u001b[39m                             Traceback (most recent call last)",
      "\u001b[36mCell\u001b[39m\u001b[36m \u001b[39m\u001b[32mIn[67]\u001b[39m\u001b[32m, line 1\u001b[39m\n\u001b[32m----> \u001b[39m\u001b[32m1\u001b[39m \u001b[38;5;28;43mnext\u001b[39;49m\u001b[43m(\u001b[49m\u001b[43mmy_iterator\u001b[49m\u001b[43m)\u001b[49m\n",
      "\u001b[31mStopIteration\u001b[39m: "
     ]
    }
   ],
   "source": [
    "next(my_iterator)"
   ]
  },
  {
   "cell_type": "markdown",
   "id": "682de572-8bf3-4b08-86a0-73b7e8ca14db",
   "metadata": {},
   "source": [
    "An iterator is an object that produces consecutive values when `next` is called on it.\n",
    "When the iterator is empty/exhausted/done, it raises `StopIteration`."
   ]
  },
  {
   "cell_type": "code",
   "execution_count": 68,
   "id": "c6395fcf-7614-4b62-bfd7-8810be5aedd1",
   "metadata": {},
   "outputs": [
    {
     "data": {
      "text/plain": [
       "<list_iterator at 0x103899e40>"
      ]
     },
     "execution_count": 68,
     "metadata": {},
     "output_type": "execute_result"
    }
   ],
   "source": [
    "my_iterator"
   ]
  },
  {
   "cell_type": "markdown",
   "id": "63c0aa3f-1779-43a4-9ec7-7414a992ba56",
   "metadata": {},
   "source": [
    "“Iterable” is the word that refers to things that can be used in loops.\n",
    "\n",
    "“Iterable” is something that can produce a related **iterator**."
   ]
  },
  {
   "cell_type": "markdown",
   "id": "654c073d-8fc4-4712-9a8d-f2c974f7d470",
   "metadata": {},
   "source": [
    "- Generators are iterators.\n",
    "- (You can call `next` on generators.)\n",
    "- Generators are also iterables.\n",
    "- (You can call `iter` on generators.)"
   ]
  },
  {
   "cell_type": "code",
   "execution_count": 69,
   "id": "2602ea82-496e-4c59-aede-fb57f8ba1999",
   "metadata": {},
   "outputs": [
    {
     "data": {
      "text/plain": [
       "[42, 73, 0, 16, 10]"
      ]
     },
     "execution_count": 69,
     "metadata": {},
     "output_type": "execute_result"
    }
   ],
   "source": [
    "my_list"
   ]
  },
  {
   "cell_type": "code",
   "execution_count": 70,
   "id": "ec115819-cd84-4fb8-a3b1-0e1ee47daa84",
   "metadata": {},
   "outputs": [],
   "source": [
    "iterator = iter(my_list)  # iter produces an iterator from an iterable"
   ]
  },
  {
   "cell_type": "code",
   "execution_count": 73,
   "id": "7f3bc54b-5312-4721-ae6e-718092377d9b",
   "metadata": {},
   "outputs": [
    {
     "name": "stdout",
     "output_type": "stream",
     "text": [
      "42\n",
      "73\n",
      "0\n",
      "16\n",
      "10\n"
     ]
    }
   ],
   "source": [
    "for num in iterator:\n",
    "    print(num)"
   ]
  },
  {
   "cell_type": "code",
   "execution_count": 75,
   "id": "a4857630-2f34-46b7-8438-b3099a3581d1",
   "metadata": {},
   "outputs": [
    {
     "data": {
      "text/plain": [
       "<list_iterator at 0x1038e1690>"
      ]
     },
     "execution_count": 75,
     "metadata": {},
     "output_type": "execute_result"
    }
   ],
   "source": [
    "iter(iterator)"
   ]
  },
  {
   "cell_type": "code",
   "execution_count": 76,
   "id": "b6228f1e-a827-455a-82a9-77232c7c19bd",
   "metadata": {},
   "outputs": [
    {
     "data": {
      "text/plain": [
       "True"
      ]
     },
     "execution_count": 76,
     "metadata": {},
     "output_type": "execute_result"
    }
   ],
   "source": [
    "iter(iterator) is iterator"
   ]
  },
  {
   "cell_type": "markdown",
   "id": "4d37d245-decc-4edc-b831-fae89e265df4",
   "metadata": {},
   "source": [
    "For an object to be an iterator:\n",
    "\n",
    " 1. calling `next` on it will produce consecutive results until it raises `StopIteration`.\n",
    " 2. calling `iter` on it will return itself."
   ]
  },
  {
   "cell_type": "code",
   "execution_count": 90,
   "id": "12c2cbf9-89b6-4ad2-bda3-7a3d06612f51",
   "metadata": {},
   "outputs": [],
   "source": [
    "class Person:\n",
    "    def __init__(self, first):\n",
    "        self.first = first\n",
    "\n",
    "    def __str__(self):\n",
    "        return self.first\n",
    "\n",
    "ned = Person(\"Ned\")"
   ]
  },
  {
   "cell_type": "code",
   "execution_count": 88,
   "id": "421110fa-fc5b-4495-8453-ad19cee63e1d",
   "metadata": {},
   "outputs": [],
   "source": [
    "class MyRange:\n",
    "    def __init__(self, stop):\n",
    "        self.stop = stop\n",
    "        self.value = -1\n",
    "\n",
    "    def __next__(self):\n",
    "        # calling next on it will produce consecutive results until it raises StopIteration.\n",
    "        self.value += 1\n",
    "        if self.value >= self.stop:\n",
    "            raise StopIteration\n",
    "        return self.value\n",
    "\n",
    "    def __iter__(self):\n",
    "        # calling iter on it will return itself.\n",
    "        return self"
   ]
  },
  {
   "cell_type": "code",
   "execution_count": 89,
   "id": "57c411c9-2495-4f9c-86fb-9d405868d690",
   "metadata": {},
   "outputs": [
    {
     "name": "stdout",
     "output_type": "stream",
     "text": [
      "0\n",
      "1\n",
      "2\n",
      "3\n",
      "4\n",
      "5\n",
      "6\n",
      "7\n",
      "8\n",
      "9\n"
     ]
    }
   ],
   "source": [
    "for num in MyRange(10):\n",
    "    print(num)"
   ]
  },
  {
   "cell_type": "code",
   "execution_count": 85,
   "id": "41046cd4-922f-441e-b3be-12e75cb2c505",
   "metadata": {},
   "outputs": [
    {
     "ename": "TypeError",
     "evalue": "iter() returned non-iterator of type 'MyRange'",
     "output_type": "error",
     "traceback": [
      "\u001b[31m---------------------------------------------------------------------------\u001b[39m",
      "\u001b[31mTypeError\u001b[39m                                 Traceback (most recent call last)",
      "\u001b[36mCell\u001b[39m\u001b[36m \u001b[39m\u001b[32mIn[85]\u001b[39m\u001b[32m, line 2\u001b[39m\n\u001b[32m      1\u001b[39m mr = MyRange(\u001b[32m10\u001b[39m)\n\u001b[32m----> \u001b[39m\u001b[32m2\u001b[39m \u001b[38;5;28;43miter\u001b[39;49m\u001b[43m(\u001b[49m\u001b[43mmr\u001b[49m\u001b[43m)\u001b[49m\n",
      "\u001b[31mTypeError\u001b[39m: iter() returned non-iterator of type 'MyRange'"
     ]
    }
   ],
   "source": [
    "mr = MyRange(10)\n",
    "iter(mr)"
   ]
  },
  {
   "cell_type": "code",
   "execution_count": 91,
   "id": "7ea85418-a96f-4f9f-9044-6271d9ede47f",
   "metadata": {},
   "outputs": [
    {
     "data": {
      "text/plain": [
       "'Ned'"
      ]
     },
     "execution_count": 91,
     "metadata": {},
     "output_type": "execute_result"
    }
   ],
   "source": [
    "ned.__str__()"
   ]
  },
  {
   "cell_type": "code",
   "execution_count": 94,
   "id": "26453587-b318-4633-b8d4-8746f5c3ae41",
   "metadata": {},
   "outputs": [
    {
     "data": {
      "text/plain": [
       "42"
      ]
     },
     "execution_count": 94,
     "metadata": {},
     "output_type": "execute_result"
    }
   ],
   "source": [
    "iterator = iter(my_list)\n",
    "iterator.__next__()"
   ]
  },
  {
   "cell_type": "code",
   "execution_count": 95,
   "id": "e7c90518-14c2-4967-9f71-cababd744ad2",
   "metadata": {},
   "outputs": [
    {
     "data": {
      "text/plain": [
       "0"
      ]
     },
     "execution_count": 95,
     "metadata": {},
     "output_type": "execute_result"
    }
   ],
   "source": [
    "mr = MyRange(10)\n",
    "mr.__next__()"
   ]
  },
  {
   "cell_type": "code",
   "execution_count": 96,
   "id": "4ece832d-cf12-441c-bdf9-ad54bb5c201f",
   "metadata": {},
   "outputs": [
    {
     "data": {
      "text/plain": [
       "1"
      ]
     },
     "execution_count": 96,
     "metadata": {},
     "output_type": "execute_result"
    }
   ],
   "source": [
    "next(mr)"
   ]
  },
  {
   "cell_type": "code",
   "execution_count": 97,
   "id": "c61cec30-13ad-44a4-8203-6496f0ce3e5f",
   "metadata": {},
   "outputs": [
    {
     "data": {
      "text/plain": [
       "2"
      ]
     },
     "execution_count": 97,
     "metadata": {},
     "output_type": "execute_result"
    }
   ],
   "source": [
    "mr.__next__()"
   ]
  },
  {
   "cell_type": "code",
   "execution_count": 99,
   "id": "8ed822df-0d56-44ca-8f0b-bb149e3d6388",
   "metadata": {},
   "outputs": [
    {
     "data": {
      "text/plain": [
       "True"
      ]
     },
     "execution_count": 99,
     "metadata": {},
     "output_type": "execute_result"
    }
   ],
   "source": [
    "iter(mr) is mr"
   ]
  },
  {
   "cell_type": "code",
   "execution_count": 100,
   "id": "eab399d9-e3db-44a6-8d45-827bd90ce3d1",
   "metadata": {},
   "outputs": [
    {
     "data": {
      "text/plain": [
       "8"
      ]
     },
     "execution_count": 100,
     "metadata": {},
     "output_type": "execute_result"
    }
   ],
   "source": [
    "next(mr)\n",
    "next(mr)\n",
    "next(mr)\n",
    "next(mr)\n",
    "next(mr)\n",
    "next(mr)"
   ]
  },
  {
   "cell_type": "code",
   "execution_count": 101,
   "id": "0dc9520d-b6c0-4b84-913f-8f62b8a3fddc",
   "metadata": {},
   "outputs": [
    {
     "data": {
      "text/plain": [
       "9"
      ]
     },
     "execution_count": 101,
     "metadata": {},
     "output_type": "execute_result"
    }
   ],
   "source": [
    "next(mr)"
   ]
  },
  {
   "cell_type": "code",
   "execution_count": 102,
   "id": "60d3aae0-19bc-404a-a5cb-af23b9d6502e",
   "metadata": {},
   "outputs": [
    {
     "ename": "StopIteration",
     "evalue": "",
     "output_type": "error",
     "traceback": [
      "\u001b[31m---------------------------------------------------------------------------\u001b[39m",
      "\u001b[31mStopIteration\u001b[39m                             Traceback (most recent call last)",
      "\u001b[36mCell\u001b[39m\u001b[36m \u001b[39m\u001b[32mIn[102]\u001b[39m\u001b[32m, line 1\u001b[39m\n\u001b[32m----> \u001b[39m\u001b[32m1\u001b[39m \u001b[43mmr\u001b[49m\u001b[43m.\u001b[49m\u001b[34;43m__next__\u001b[39;49m\u001b[43m(\u001b[49m\u001b[43m)\u001b[49m\n",
      "\u001b[36mCell\u001b[39m\u001b[36m \u001b[39m\u001b[32mIn[88]\u001b[39m\u001b[32m, line 10\u001b[39m, in \u001b[36mMyRange.__next__\u001b[39m\u001b[34m(self)\u001b[39m\n\u001b[32m      8\u001b[39m \u001b[38;5;28mself\u001b[39m.value += \u001b[32m1\u001b[39m\n\u001b[32m      9\u001b[39m \u001b[38;5;28;01mif\u001b[39;00m \u001b[38;5;28mself\u001b[39m.value >= \u001b[38;5;28mself\u001b[39m.stop:\n\u001b[32m---> \u001b[39m\u001b[32m10\u001b[39m     \u001b[38;5;28;01mraise\u001b[39;00m \u001b[38;5;167;01mStopIteration\u001b[39;00m\n\u001b[32m     11\u001b[39m \u001b[38;5;28;01mreturn\u001b[39;00m \u001b[38;5;28mself\u001b[39m.value\n",
      "\u001b[31mStopIteration\u001b[39m: "
     ]
    }
   ],
   "source": [
    "mr.__next__()"
   ]
  },
  {
   "cell_type": "code",
   "execution_count": 103,
   "id": "9e299bb4-d13b-408a-85d4-04008f97bf63",
   "metadata": {},
   "outputs": [
    {
     "ename": "StopIteration",
     "evalue": "",
     "output_type": "error",
     "traceback": [
      "\u001b[31m---------------------------------------------------------------------------\u001b[39m",
      "\u001b[31mStopIteration\u001b[39m                             Traceback (most recent call last)",
      "\u001b[36mCell\u001b[39m\u001b[36m \u001b[39m\u001b[32mIn[103]\u001b[39m\u001b[32m, line 1\u001b[39m\n\u001b[32m----> \u001b[39m\u001b[32m1\u001b[39m \u001b[38;5;28;43mnext\u001b[39;49m\u001b[43m(\u001b[49m\u001b[43mmr\u001b[49m\u001b[43m)\u001b[49m\n",
      "\u001b[36mCell\u001b[39m\u001b[36m \u001b[39m\u001b[32mIn[88]\u001b[39m\u001b[32m, line 10\u001b[39m, in \u001b[36mMyRange.__next__\u001b[39m\u001b[34m(self)\u001b[39m\n\u001b[32m      8\u001b[39m \u001b[38;5;28mself\u001b[39m.value += \u001b[32m1\u001b[39m\n\u001b[32m      9\u001b[39m \u001b[38;5;28;01mif\u001b[39;00m \u001b[38;5;28mself\u001b[39m.value >= \u001b[38;5;28mself\u001b[39m.stop:\n\u001b[32m---> \u001b[39m\u001b[32m10\u001b[39m     \u001b[38;5;28;01mraise\u001b[39;00m \u001b[38;5;167;01mStopIteration\u001b[39;00m\n\u001b[32m     11\u001b[39m \u001b[38;5;28;01mreturn\u001b[39;00m \u001b[38;5;28mself\u001b[39m.value\n",
      "\u001b[31mStopIteration\u001b[39m: "
     ]
    }
   ],
   "source": [
    "next(mr)"
   ]
  },
  {
   "cell_type": "code",
   "execution_count": 104,
   "id": "67e6d39b-d726-415d-bd5e-fea933adf238",
   "metadata": {},
   "outputs": [],
   "source": [
    "def count():\n",
    "    value = 0\n",
    "    while True:\n",
    "        yield value\n",
    "        value += 1"
   ]
  },
  {
   "cell_type": "code",
   "execution_count": 105,
   "id": "e27d95a0-0357-4c8d-a886-f05bd7f8b06c",
   "metadata": {},
   "outputs": [],
   "source": [
    "counter = count()"
   ]
  },
  {
   "cell_type": "code",
   "execution_count": 106,
   "id": "8fcb4b6d-0717-43be-b8bd-8c3fe2efafbe",
   "metadata": {},
   "outputs": [
    {
     "data": {
      "text/plain": [
       "True"
      ]
     },
     "execution_count": 106,
     "metadata": {},
     "output_type": "execute_result"
    }
   ],
   "source": [
    "iter(counter) is counter"
   ]
  },
  {
   "cell_type": "code",
   "execution_count": 107,
   "id": "dc81414c-3bfb-43cb-96b6-8689db49ae59",
   "metadata": {},
   "outputs": [
    {
     "data": {
      "text/plain": [
       "0"
      ]
     },
     "execution_count": 107,
     "metadata": {},
     "output_type": "execute_result"
    }
   ],
   "source": [
    "counter.__next__()"
   ]
  },
  {
   "cell_type": "code",
   "execution_count": 108,
   "id": "ae0a5ce8-aa9d-4dcb-855a-c589da6200d8",
   "metadata": {},
   "outputs": [
    {
     "data": {
      "text/plain": [
       "1"
      ]
     },
     "execution_count": 108,
     "metadata": {},
     "output_type": "execute_result"
    }
   ],
   "source": [
    "counter.__next__()"
   ]
  },
  {
   "cell_type": "code",
   "execution_count": 109,
   "id": "62fd70c8-332b-4dc9-a6e1-97ab10799bfe",
   "metadata": {},
   "outputs": [
    {
     "data": {
      "text/plain": [
       "2"
      ]
     },
     "execution_count": 109,
     "metadata": {},
     "output_type": "execute_result"
    }
   ],
   "source": [
    "next(counter)"
   ]
  },
  {
   "cell_type": "markdown",
   "id": "04455b1a-ee1a-4248-99e9-37d40f6ecdeb",
   "metadata": {},
   "source": [
    "# `count_iterator.py`"
   ]
  },
  {
   "cell_type": "markdown",
   "id": "8a4e5aee-2af3-4676-b2b5-7d00bdfb6f35",
   "metadata": {},
   "source": [
    "To create an iterable, you need to define `__iter__` and that must return an iterator."
   ]
  },
  {
   "cell_type": "markdown",
   "id": "b85bb6a9-496e-4585-a6e6-cd5d66978c6c",
   "metadata": {},
   "source": [
    "One _convenient_ way of creating iterables is implementing `__iter__` as a generator function."
   ]
  },
  {
   "cell_type": "code",
   "execution_count": 112,
   "id": "b48360b3-541c-484a-bf4b-0aed71a74843",
   "metadata": {},
   "outputs": [],
   "source": [
    "class MyRange:\n",
    "    def __init__(self, stop):\n",
    "        self.stop = stop\n",
    "\n",
    "    def __iter__(self):\n",
    "        value = 0\n",
    "        while value < self.stop:\n",
    "            yield value\n",
    "            value += 1"
   ]
  },
  {
   "cell_type": "code",
   "execution_count": 113,
   "id": "81dcdfd8-23d8-4067-9dba-4fc5df69f3a9",
   "metadata": {},
   "outputs": [
    {
     "name": "stdout",
     "output_type": "stream",
     "text": [
      "0\n",
      "1\n",
      "2\n",
      "3\n",
      "4\n",
      "5\n",
      "6\n",
      "7\n",
      "8\n",
      "9\n"
     ]
    }
   ],
   "source": [
    "for number in MyRange(10):\n",
    "    print(number)"
   ]
  },
  {
   "cell_type": "code",
   "execution_count": 114,
   "id": "5b034d77-bc37-467b-8e72-5ccd12428897",
   "metadata": {},
   "outputs": [
    {
     "data": {
      "text/plain": [
       "<generator object MyRange.__iter__ at 0x1037a2c80>"
      ]
     },
     "execution_count": 114,
     "metadata": {},
     "output_type": "execute_result"
    }
   ],
   "source": [
    "iter(MyRange(10))"
   ]
  },
  {
   "cell_type": "markdown",
   "id": "9713391d-c1ad-415b-8886-7183f49433ef",
   "metadata": {},
   "source": [
    "# `for` loops are a lie!"
   ]
  },
  {
   "cell_type": "code",
   "execution_count": 116,
   "id": "a026c37f-0fa1-428b-922c-a40b7cfa9ace",
   "metadata": {},
   "outputs": [
    {
     "name": "stdout",
     "output_type": "stream",
     "text": [
      "0\n",
      "1\n",
      "2\n"
     ]
    }
   ],
   "source": [
    "for number in range(3):\n",
    "    print(number)"
   ]
  },
  {
   "cell_type": "code",
   "execution_count": 117,
   "id": "f8429dfa-8bc6-40fb-acaf-4254cd4de8cb",
   "metadata": {},
   "outputs": [
    {
     "name": "stdout",
     "output_type": "stream",
     "text": [
      "0\n",
      "1\n",
      "2\n"
     ]
    }
   ],
   "source": [
    "may_be_iterable = range(3)\n",
    "iterator = iter(may_be_iterable)\n",
    "while True:\n",
    "    try:\n",
    "        value = next(iterator)\n",
    "    except StopIteration:\n",
    "        break\n",
    "    print(value)"
   ]
  },
  {
   "cell_type": "markdown",
   "id": "d1284cb7-2d54-489a-b179-c5a8730b2a8c",
   "metadata": {},
   "source": [
    "# `count_iterable.py`"
   ]
  },
  {
   "cell_type": "code",
   "execution_count": null,
   "id": "ffd834b5-61b1-4b4b-8b60-439f87de11bc",
   "metadata": {},
   "outputs": [],
   "source": []
  }
 ],
 "metadata": {
  "kernelspec": {
   "display_name": "Python 3 (ipykernel)",
   "language": "python",
   "name": "python3"
  },
  "language_info": {
   "codemirror_mode": {
    "name": "ipython",
    "version": 3
   },
   "file_extension": ".py",
   "mimetype": "text/x-python",
   "name": "python",
   "nbconvert_exporter": "python",
   "pygments_lexer": "ipython3",
   "version": "3.13.3"
  }
 },
 "nbformat": 4,
 "nbformat_minor": 5
}
