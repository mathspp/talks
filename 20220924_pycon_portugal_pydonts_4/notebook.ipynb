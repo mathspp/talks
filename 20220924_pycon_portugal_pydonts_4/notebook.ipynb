{
 "cells": [
  {
   "cell_type": "code",
   "execution_count": 1,
   "id": "5090ba9b",
   "metadata": {},
   "outputs": [],
   "source": [
    "def get_longest(words):\n",
    "    longest = \"\"\n",
    "    length = 0\n",
    "    for idx in range(len(words)):\n",
    "        word_length = len(words[idx])\n",
    "        if word_length > length:\n",
    "            longest = words[idx]\n",
    "            length = word_length\n",
    "    return longest"
   ]
  },
  {
   "cell_type": "code",
   "execution_count": 2,
   "id": "670d1481",
   "metadata": {},
   "outputs": [],
   "source": [
    "with open(\"words.txt\", \"r\") as f:\n",
    "    words = [line.strip() for line in f]"
   ]
  },
  {
   "cell_type": "code",
   "execution_count": 5,
   "id": "7782ad94",
   "metadata": {},
   "outputs": [
    {
     "data": {
      "text/plain": [
       "'ethylenediaminetetraacetates'"
      ]
     },
     "execution_count": 5,
     "metadata": {},
     "output_type": "execute_result"
    }
   ],
   "source": [
    "get_longest(words)"
   ]
  },
  {
   "cell_type": "code",
   "execution_count": 6,
   "id": "d5349cce",
   "metadata": {},
   "outputs": [
    {
     "data": {
      "text/plain": [
       "['aa',\n",
       " 'aah',\n",
       " 'aahed',\n",
       " 'aahing',\n",
       " 'aahs',\n",
       " 'aal',\n",
       " 'aalii',\n",
       " 'aaliis',\n",
       " 'aals',\n",
       " 'aardvark']"
      ]
     },
     "execution_count": 6,
     "metadata": {},
     "output_type": "execute_result"
    }
   ],
   "source": [
    "words[:10]"
   ]
  },
  {
   "cell_type": "code",
   "execution_count": 7,
   "id": "2f527952",
   "metadata": {},
   "outputs": [],
   "source": [
    "def get_longest(words):\n",
    "    longest = \"\"\n",
    "    length = 0\n",
    "    for word in words:\n",
    "        word_length = len(word)\n",
    "        if word_length > length:\n",
    "            longest = word\n",
    "            length = word_length\n",
    "    return longest"
   ]
  },
  {
   "cell_type": "code",
   "execution_count": 8,
   "id": "4ab0580d",
   "metadata": {},
   "outputs": [
    {
     "data": {
      "text/plain": [
       "'ethylenediaminetetraacetates'"
      ]
     },
     "execution_count": 8,
     "metadata": {},
     "output_type": "execute_result"
    }
   ],
   "source": [
    "get_longest(words)"
   ]
  },
  {
   "cell_type": "code",
   "execution_count": 9,
   "id": "a078c0ac",
   "metadata": {},
   "outputs": [],
   "source": [
    "def get_longest(words):\n",
    "    longest, length = \"\", 0\n",
    "    for word in words:\n",
    "        word_length = len(word)\n",
    "        if word_length > length:\n",
    "            longest, length = word, word_length\n",
    "    return longest"
   ]
  },
  {
   "cell_type": "code",
   "execution_count": 10,
   "id": "e2c92488",
   "metadata": {},
   "outputs": [
    {
     "data": {
      "text/plain": [
       "'ethylenediaminetetraacetates'"
      ]
     },
     "execution_count": 10,
     "metadata": {},
     "output_type": "execute_result"
    }
   ],
   "source": [
    "get_longest(words)"
   ]
  },
  {
   "cell_type": "code",
   "execution_count": 11,
   "id": "b88932e8",
   "metadata": {},
   "outputs": [],
   "source": [
    "def get_longest(words):\n",
    "    longest, length = \"\", 0\n",
    "    lengths = [len(word) for word in words]\n",
    "    for word, word_length in zip(words, lengths):\n",
    "        if word_length > length:\n",
    "            longest, length = word, word_length\n",
    "    return longest"
   ]
  },
  {
   "cell_type": "code",
   "execution_count": 13,
   "id": "00431dc2",
   "metadata": {},
   "outputs": [],
   "source": [
    "def get_longest(words):\n",
    "    longest, length = \"\", 0\n",
    "    for word, word_length in zip(words, map(len, words)):\n",
    "        if word_length > length:\n",
    "            longest, length = word, word_length\n",
    "    return longest"
   ]
  },
  {
   "cell_type": "code",
   "execution_count": 14,
   "id": "1e8a60c3",
   "metadata": {},
   "outputs": [
    {
     "data": {
      "text/plain": [
       "'ethylenediaminetetraacetates'"
      ]
     },
     "execution_count": 14,
     "metadata": {},
     "output_type": "execute_result"
    }
   ],
   "source": [
    "get_longest(words)"
   ]
  },
  {
   "cell_type": "code",
   "execution_count": 15,
   "id": "cdfaa65e",
   "metadata": {},
   "outputs": [],
   "source": [
    "def get_longest(words):\n",
    "    max_len = max(map(len, words))\n",
    "    long_words = [\n",
    "        word for word in words\n",
    "        if len(word) == max_len\n",
    "    ]\n",
    "    return long_words[0]"
   ]
  },
  {
   "cell_type": "code",
   "execution_count": 16,
   "id": "4a411569",
   "metadata": {},
   "outputs": [
    {
     "data": {
      "text/plain": [
       "'ethylenediaminetetraacetates'"
      ]
     },
     "execution_count": 16,
     "metadata": {},
     "output_type": "execute_result"
    }
   ],
   "source": [
    "get_longest(words)"
   ]
  },
  {
   "cell_type": "code",
   "execution_count": 17,
   "id": "111f5b5e",
   "metadata": {},
   "outputs": [],
   "source": [
    "def get_longest(words):\n",
    "    max_len = max(map(len, words))\n",
    "    return (\n",
    "        word for word in words\n",
    "        if len(word) == max_len\n",
    "    )"
   ]
  },
  {
   "cell_type": "code",
   "execution_count": 18,
   "id": "d6450a00",
   "metadata": {},
   "outputs": [],
   "source": [
    "gen = get_longest(words)"
   ]
  },
  {
   "cell_type": "code",
   "execution_count": 19,
   "id": "ed24ce24",
   "metadata": {
    "scrolled": true
   },
   "outputs": [
    {
     "data": {
      "text/plain": [
       "<generator object get_longest.<locals>.<genexpr> at 0x0000029CA14DCB30>"
      ]
     },
     "execution_count": 19,
     "metadata": {},
     "output_type": "execute_result"
    }
   ],
   "source": [
    "gen"
   ]
  },
  {
   "cell_type": "code",
   "execution_count": 20,
   "id": "fc763d97",
   "metadata": {},
   "outputs": [],
   "source": [
    "def get_longest(words):\n",
    "    max_len = max(map(len, words))\n",
    "    return next(\n",
    "        word for word in words\n",
    "        if len(word) == max_len\n",
    "    )"
   ]
  },
  {
   "cell_type": "code",
   "execution_count": 21,
   "id": "38737a5e",
   "metadata": {},
   "outputs": [
    {
     "data": {
      "text/plain": [
       "'ethylenediaminetetraacetates'"
      ]
     },
     "execution_count": 21,
     "metadata": {},
     "output_type": "execute_result"
    }
   ],
   "source": [
    "get_longest(words)"
   ]
  },
  {
   "cell_type": "code",
   "execution_count": 22,
   "id": "a6d7f485",
   "metadata": {},
   "outputs": [],
   "source": [
    "z = zip(words, map(len, words))"
   ]
  },
  {
   "cell_type": "code",
   "execution_count": 23,
   "id": "ce1267ad",
   "metadata": {},
   "outputs": [
    {
     "data": {
      "text/plain": [
       "<zip at 0x29ca14d92c0>"
      ]
     },
     "execution_count": 23,
     "metadata": {},
     "output_type": "execute_result"
    }
   ],
   "source": [
    "z"
   ]
  },
  {
   "cell_type": "code",
   "execution_count": 24,
   "id": "3c6204e4",
   "metadata": {},
   "outputs": [
    {
     "data": {
      "text/plain": [
       "('aa', 2)"
      ]
     },
     "execution_count": 24,
     "metadata": {},
     "output_type": "execute_result"
    }
   ],
   "source": [
    "next(z)"
   ]
  },
  {
   "cell_type": "code",
   "execution_count": 25,
   "id": "1c7c1fd2",
   "metadata": {},
   "outputs": [
    {
     "data": {
      "text/plain": [
       "('aah', 3)"
      ]
     },
     "execution_count": 25,
     "metadata": {},
     "output_type": "execute_result"
    }
   ],
   "source": [
    "next(z)"
   ]
  },
  {
   "cell_type": "code",
   "execution_count": 26,
   "id": "7d756496",
   "metadata": {},
   "outputs": [
    {
     "data": {
      "text/plain": [
       "('aahed', 5)"
      ]
     },
     "execution_count": 26,
     "metadata": {},
     "output_type": "execute_result"
    }
   ],
   "source": [
    "next(z)"
   ]
  },
  {
   "cell_type": "code",
   "execution_count": 27,
   "id": "fd58cfc5",
   "metadata": {},
   "outputs": [
    {
     "data": {
      "text/plain": [
       "('aahing', 6)"
      ]
     },
     "execution_count": 27,
     "metadata": {},
     "output_type": "execute_result"
    }
   ],
   "source": [
    "next(z)"
   ]
  },
  {
   "cell_type": "code",
   "execution_count": 28,
   "id": "c2e6ab77",
   "metadata": {},
   "outputs": [],
   "source": [
    "z = zip(map(len, words), words)"
   ]
  },
  {
   "cell_type": "code",
   "execution_count": 29,
   "id": "2d3b00f5",
   "metadata": {},
   "outputs": [
    {
     "data": {
      "text/plain": [
       "(2, 'aa')"
      ]
     },
     "execution_count": 29,
     "metadata": {},
     "output_type": "execute_result"
    }
   ],
   "source": [
    "next(z)"
   ]
  },
  {
   "cell_type": "code",
   "execution_count": 30,
   "id": "d48d4051",
   "metadata": {},
   "outputs": [
    {
     "data": {
      "text/plain": [
       "(3, 'aah')"
      ]
     },
     "execution_count": 30,
     "metadata": {},
     "output_type": "execute_result"
    }
   ],
   "source": [
    "next(z)"
   ]
  },
  {
   "cell_type": "code",
   "execution_count": 31,
   "id": "c4f96692",
   "metadata": {},
   "outputs": [
    {
     "data": {
      "text/plain": [
       "(5, 'aahed')"
      ]
     },
     "execution_count": 31,
     "metadata": {},
     "output_type": "execute_result"
    }
   ],
   "source": [
    "next(z)"
   ]
  },
  {
   "cell_type": "code",
   "execution_count": 32,
   "id": "bbe4a266",
   "metadata": {},
   "outputs": [
    {
     "data": {
      "text/plain": [
       "(6, 'aahing')"
      ]
     },
     "execution_count": 32,
     "metadata": {},
     "output_type": "execute_result"
    }
   ],
   "source": [
    "next(z)"
   ]
  },
  {
   "cell_type": "code",
   "execution_count": 33,
   "id": "75fff185",
   "metadata": {},
   "outputs": [
    {
     "data": {
      "text/plain": [
       "(4, 'aahs')"
      ]
     },
     "execution_count": 33,
     "metadata": {},
     "output_type": "execute_result"
    }
   ],
   "source": [
    "next(z)"
   ]
  },
  {
   "cell_type": "code",
   "execution_count": 34,
   "id": "306ae89c",
   "metadata": {},
   "outputs": [
    {
     "data": {
      "text/plain": [
       "True"
      ]
     },
     "execution_count": 34,
     "metadata": {},
     "output_type": "execute_result"
    }
   ],
   "source": [
    "(5, 'aahed') < (6, 'aahing')"
   ]
  },
  {
   "cell_type": "code",
   "execution_count": 37,
   "id": "cbd49744",
   "metadata": {},
   "outputs": [],
   "source": [
    "def get_longest(words):\n",
    "    return max(zip(map(len, words), words))[1]"
   ]
  },
  {
   "cell_type": "code",
   "execution_count": 38,
   "id": "0c75d32b",
   "metadata": {},
   "outputs": [
    {
     "data": {
      "text/plain": [
       "'ethylenediaminetetraacetates'"
      ]
     },
     "execution_count": 38,
     "metadata": {},
     "output_type": "execute_result"
    }
   ],
   "source": [
    "get_longest(words)"
   ]
  },
  {
   "cell_type": "code",
   "execution_count": 39,
   "id": "b819425d",
   "metadata": {},
   "outputs": [],
   "source": [
    "def get_longest(words):\n",
    "    _, longest = max(\n",
    "        zip(map(len, words), words)\n",
    "    )\n",
    "    return longest"
   ]
  },
  {
   "cell_type": "code",
   "execution_count": 40,
   "id": "8338364e",
   "metadata": {},
   "outputs": [
    {
     "data": {
      "text/plain": [
       "'ethylenediaminetetraacetates'"
      ]
     },
     "execution_count": 40,
     "metadata": {},
     "output_type": "execute_result"
    }
   ],
   "source": [
    "get_longest(words)"
   ]
  },
  {
   "cell_type": "code",
   "execution_count": 41,
   "id": "75634155",
   "metadata": {
    "scrolled": true
   },
   "outputs": [
    {
     "name": "stdout",
     "output_type": "stream",
     "text": [
      "Help on built-in function max in module builtins:\n",
      "\n",
      "max(...)\n",
      "    max(iterable, *[, default=obj, key=func]) -> value\n",
      "    max(arg1, arg2, *args, *[, key=func]) -> value\n",
      "    \n",
      "    With a single iterable argument, return its biggest item. The\n",
      "    default keyword-only argument specifies an object to return if\n",
      "    the provided iterable is empty.\n",
      "    With two or more arguments, return the largest argument.\n",
      "\n"
     ]
    }
   ],
   "source": [
    "help(max)"
   ]
  },
  {
   "cell_type": "code",
   "execution_count": 42,
   "id": "96bb7f5f",
   "metadata": {},
   "outputs": [],
   "source": [
    "def get_longest(words):\n",
    "    return max(words, key=len)  # argmax"
   ]
  },
  {
   "cell_type": "code",
   "execution_count": 43,
   "id": "75fd2320",
   "metadata": {},
   "outputs": [
    {
     "data": {
      "text/plain": [
       "'ethylenediaminetetraacetates'"
      ]
     },
     "execution_count": 43,
     "metadata": {},
     "output_type": "execute_result"
    }
   ],
   "source": [
    "get_longest(words)"
   ]
  },
  {
   "cell_type": "code",
   "execution_count": 44,
   "id": "1f6b69ad",
   "metadata": {},
   "outputs": [],
   "source": [
    "from functools import partial\n",
    "\n",
    "get_longest = partial(max, key=len)"
   ]
  },
  {
   "cell_type": "code",
   "execution_count": 45,
   "id": "cc560052",
   "metadata": {},
   "outputs": [
    {
     "data": {
      "text/plain": [
       "'ethylenediaminetetraacetates'"
      ]
     },
     "execution_count": 45,
     "metadata": {},
     "output_type": "execute_result"
    }
   ],
   "source": [
    "get_longest(words)"
   ]
  },
  {
   "cell_type": "code",
   "execution_count": null,
   "id": "37766796",
   "metadata": {},
   "outputs": [],
   "source": []
  }
 ],
 "metadata": {
  "kernelspec": {
   "display_name": "Python 3 (ipykernel)",
   "language": "python",
   "name": "python3"
  },
  "language_info": {
   "codemirror_mode": {
    "name": "ipython",
    "version": 3
   },
   "file_extension": ".py",
   "mimetype": "text/x-python",
   "name": "python",
   "nbconvert_exporter": "python",
   "pygments_lexer": "ipython3",
   "version": "3.10.0"
  },
  "toc": {
   "base_numbering": 1,
   "nav_menu": {},
   "number_sections": false,
   "sideBar": true,
   "skip_h1_title": true,
   "title_cell": "Table of Contents",
   "title_sidebar": "Contents",
   "toc_cell": false,
   "toc_position": {},
   "toc_section_display": true,
   "toc_window_display": false
  }
 },
 "nbformat": 4,
 "nbformat_minor": 5
}
