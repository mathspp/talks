{
 "cells": [
  {
   "cell_type": "code",
   "execution_count": 1,
   "id": "35148a16",
   "metadata": {},
   "outputs": [
    {
     "name": "stdout",
     "output_type": "stream",
     "text": [
      "Hello, world!\n"
     ]
    }
   ],
   "source": [
    "print(\"Hello, world!\")"
   ]
  },
  {
   "cell_type": "markdown",
   "id": "70885384",
   "metadata": {},
   "source": [
    "# OOP\n",
    "\n",
    " - Ingredient: tuple with the name of the ingredient & the quantity that I have.\n",
    " - \"Inventory\": a list of ingredients."
   ]
  },
  {
   "cell_type": "code",
   "execution_count": 2,
   "id": "95f5a58e",
   "metadata": {},
   "outputs": [],
   "source": [
    "rice = (\"rice\", 1)  # 1 kg"
   ]
  },
  {
   "cell_type": "code",
   "execution_count": 3,
   "id": "c097255d",
   "metadata": {},
   "outputs": [],
   "source": [
    "milk = (\"milk\", 3)  # 3 Lt"
   ]
  },
  {
   "cell_type": "code",
   "execution_count": 4,
   "id": "cc608e18",
   "metadata": {},
   "outputs": [],
   "source": [
    "pantry = [\n",
    "    rice,\n",
    "    milk,\n",
    "    (\"chocolate\", 1),\n",
    "]"
   ]
  },
  {
   "cell_type": "markdown",
   "id": "e5cbd211",
   "metadata": {},
   "source": [
    "How can I check if I have enough of an ingredient (to cook something)?"
   ]
  },
  {
   "cell_type": "code",
   "execution_count": 5,
   "id": "f2e2c4a7",
   "metadata": {},
   "outputs": [],
   "source": [
    "def has_enough(inventory, ingredient):\n",
    "    name, qty = ingredient\n",
    "    for owned_ingredient in inventory:\n",
    "        owned_name, owned_qty = owned_ingredient\n",
    "        if owned_name == name:\n",
    "            return qty <= owned_qty\n",
    "    return False"
   ]
  },
  {
   "cell_type": "code",
   "execution_count": 6,
   "id": "657f8981",
   "metadata": {},
   "outputs": [
    {
     "name": "stdout",
     "output_type": "stream",
     "text": [
      "False\n"
     ]
    }
   ],
   "source": [
    "print(has_enough([], rice))"
   ]
  },
  {
   "cell_type": "code",
   "execution_count": 7,
   "id": "4a369f48",
   "metadata": {},
   "outputs": [
    {
     "name": "stdout",
     "output_type": "stream",
     "text": [
      "True\n"
     ]
    }
   ],
   "source": [
    "print(has_enough(pantry, rice))"
   ]
  },
  {
   "cell_type": "code",
   "execution_count": 8,
   "id": "c59d0da9",
   "metadata": {},
   "outputs": [
    {
     "name": "stdout",
     "output_type": "stream",
     "text": [
      "False\n"
     ]
    }
   ],
   "source": [
    "print(has_enough(pantry, (\"rice\", 2)))"
   ]
  },
  {
   "cell_type": "markdown",
   "id": "00ff146f",
   "metadata": {},
   "source": [
    "# Everything in Python is an object.\n",
    "\n",
    "Each object is defined by **3** properties:\n",
    "\n",
    " - unique identifier (like SSN for people);\n",
    " - type of the object (the functionality that the object has available);\n",
    " - the contents of the object;"
   ]
  },
  {
   "cell_type": "code",
   "execution_count": 9,
   "id": "603f277e",
   "metadata": {},
   "outputs": [
    {
     "data": {
      "text/plain": [
       "2640966065024"
      ]
     },
     "execution_count": 9,
     "metadata": {},
     "output_type": "execute_result"
    }
   ],
   "source": [
    "id(rice)"
   ]
  },
  {
   "cell_type": "code",
   "execution_count": 10,
   "id": "b72f7852",
   "metadata": {},
   "outputs": [
    {
     "data": {
      "text/plain": [
       "True"
      ]
     },
     "execution_count": 10,
     "metadata": {},
     "output_type": "execute_result"
    }
   ],
   "source": [
    "id(milk) != id(rice)"
   ]
  },
  {
   "cell_type": "code",
   "execution_count": 11,
   "id": "c2b645ad",
   "metadata": {},
   "outputs": [
    {
     "data": {
      "text/plain": [
       "tuple"
      ]
     },
     "execution_count": 11,
     "metadata": {},
     "output_type": "execute_result"
    }
   ],
   "source": [
    "type(rice)"
   ]
  },
  {
   "cell_type": "code",
   "execution_count": 12,
   "id": "d8235d3a",
   "metadata": {},
   "outputs": [
    {
     "data": {
      "text/plain": [
       "0"
      ]
     },
     "execution_count": 12,
     "metadata": {},
     "output_type": "execute_result"
    }
   ],
   "source": [
    "rice.count(\"bananas\")"
   ]
  },
  {
   "cell_type": "code",
   "execution_count": 13,
   "id": "ba76e1e8",
   "metadata": {},
   "outputs": [],
   "source": [
    "# dir(rice)  # check methods of an object"
   ]
  },
  {
   "cell_type": "code",
   "execution_count": 14,
   "id": "58dbf8c6",
   "metadata": {},
   "outputs": [
    {
     "data": {
      "text/plain": [
       "2"
      ]
     },
     "execution_count": 14,
     "metadata": {},
     "output_type": "execute_result"
    }
   ],
   "source": [
    "len(rice)"
   ]
  },
  {
   "cell_type": "code",
   "execution_count": 15,
   "id": "fdeed121",
   "metadata": {},
   "outputs": [
    {
     "data": {
      "text/plain": [
       "'rice'"
      ]
     },
     "execution_count": 15,
     "metadata": {},
     "output_type": "execute_result"
    }
   ],
   "source": [
    "rice[0]"
   ]
  },
  {
   "cell_type": "code",
   "execution_count": 16,
   "id": "10fee2fa",
   "metadata": {},
   "outputs": [
    {
     "data": {
      "text/plain": [
       "1"
      ]
     },
     "execution_count": 16,
     "metadata": {},
     "output_type": "execute_result"
    }
   ],
   "source": [
    "rice[1]"
   ]
  },
  {
   "cell_type": "code",
   "execution_count": 17,
   "id": "b1b0de50",
   "metadata": {},
   "outputs": [],
   "source": [
    "chocolate = (\"chocolate\", 2)"
   ]
  },
  {
   "cell_type": "markdown",
   "id": "e66485f8",
   "metadata": {},
   "source": [
    "OOP lets you define **new** types.\n",
    "\n",
    "With new types comes new functionality."
   ]
  },
  {
   "cell_type": "code",
   "execution_count": 18,
   "id": "ae2b4321",
   "metadata": {},
   "outputs": [],
   "source": [
    "class Ingredient:\n",
    "    \"\"\"Functionality to deal with ingredients.\"\"\"\n",
    "\n",
    "    def __init__(self, name, quantity):  # gets automatically called\n",
    "        print(\"Inside Ingredient __init__\")\n",
    "        # print(type(self))\n",
    "        self.name = name\n",
    "        self.qty = quantity"
   ]
  },
  {
   "cell_type": "code",
   "execution_count": 19,
   "id": "021e5245",
   "metadata": {},
   "outputs": [
    {
     "name": "stdout",
     "output_type": "stream",
     "text": [
      "Inside Ingredient __init__\n"
     ]
    }
   ],
   "source": [
    "chocolate = Ingredient(\"chocolate\", 3)"
   ]
  },
  {
   "cell_type": "code",
   "execution_count": 20,
   "id": "6f246b69",
   "metadata": {},
   "outputs": [
    {
     "data": {
      "text/plain": [
       "'chocolate'"
      ]
     },
     "execution_count": 20,
     "metadata": {},
     "output_type": "execute_result"
    }
   ],
   "source": [
    "chocolate.name"
   ]
  },
  {
   "cell_type": "code",
   "execution_count": 21,
   "id": "be9ea9f8",
   "metadata": {},
   "outputs": [
    {
     "name": "stdout",
     "output_type": "stream",
     "text": [
      "Inside Ingredient __init__\n"
     ]
    }
   ],
   "source": [
    "pasta = Ingredient(\"pasta\", 3)"
   ]
  },
  {
   "cell_type": "code",
   "execution_count": 22,
   "id": "4fa7518c",
   "metadata": {},
   "outputs": [
    {
     "data": {
      "text/plain": [
       "'pasta'"
      ]
     },
     "execution_count": 22,
     "metadata": {},
     "output_type": "execute_result"
    }
   ],
   "source": [
    "pasta.name"
   ]
  },
  {
   "cell_type": "markdown",
   "id": "be46910b",
   "metadata": {},
   "source": [
    "Define a class for the inventory:\n",
    "\n",
    " - the `__init__` takes two arguments: `self` and a list of ingredients;\n",
    " - saves the list of ingredients \"inside\" `self`;"
   ]
  },
  {
   "cell_type": "code",
   "execution_count": 23,
   "id": "6a35eb40",
   "metadata": {},
   "outputs": [],
   "source": [
    "class Inventory:\n",
    "    \"\"\"Functionality related to an inventory of ingredients.\"\"\"\n",
    "\n",
    "    def __init__(self, list_of_ingredients):\n",
    "        print(\"Inside the __init__ of Inventory.\")\n",
    "        self.ingredients = list_of_ingredients"
   ]
  },
  {
   "cell_type": "code",
   "execution_count": 24,
   "id": "37eb0263",
   "metadata": {},
   "outputs": [
    {
     "name": "stdout",
     "output_type": "stream",
     "text": [
      "Inside Ingredient __init__\n",
      "Inside Ingredient __init__\n",
      "Inside the __init__ of Inventory.\n"
     ]
    }
   ],
   "source": [
    "inv = Inventory([\n",
    "    chocolate,\n",
    "    Ingredient(\"couscous\", 1),\n",
    "    Ingredient(\"carrots\", 2),\n",
    "])"
   ]
  },
  {
   "cell_type": "markdown",
   "id": "f3552641",
   "metadata": {},
   "source": [
    "Use the `vars` function to inspect the variables inside an object."
   ]
  },
  {
   "cell_type": "code",
   "execution_count": 25,
   "id": "81f50997",
   "metadata": {},
   "outputs": [
    {
     "data": {
      "text/plain": [
       "{'name': 'chocolate', 'qty': 3}"
      ]
     },
     "execution_count": 25,
     "metadata": {},
     "output_type": "execute_result"
    }
   ],
   "source": [
    "vars(chocolate)"
   ]
  },
  {
   "cell_type": "code",
   "execution_count": 26,
   "id": "5a827d27",
   "metadata": {},
   "outputs": [
    {
     "data": {
      "text/plain": [
       "<function __main__.has_enough(inventory, ingredient)>"
      ]
     },
     "execution_count": 26,
     "metadata": {},
     "output_type": "execute_result"
    }
   ],
   "source": [
    "has_enough"
   ]
  },
  {
   "cell_type": "code",
   "execution_count": 27,
   "id": "269bafbc",
   "metadata": {},
   "outputs": [],
   "source": [
    "class Inventory:\n",
    "    \"\"\"Functionality related to an inventory of ingredients.\"\"\"\n",
    "\n",
    "    def __init__(self, list_of_ingredients):\n",
    "        print(\"Inside the __init__ of Inventory.\")\n",
    "        self.ingredients = list_of_ingredients\n",
    "\n",
    "    def has_enough(self, ingredient):  # `self` is NOT a keyword\n",
    "        for owned_ingredient in self.ingredients:\n",
    "            if owned_ingredient.name == ingredient.name:\n",
    "                return owned_ingredient.qty >= ingredient.qty\n",
    "        return False"
   ]
  },
  {
   "cell_type": "code",
   "execution_count": 28,
   "id": "01b85050",
   "metadata": {},
   "outputs": [
    {
     "name": "stdout",
     "output_type": "stream",
     "text": [
      "Inside the __init__ of Inventory.\n"
     ]
    }
   ],
   "source": [
    "inv = Inventory([\n",
    "    chocolate,\n",
    "])"
   ]
  },
  {
   "cell_type": "code",
   "execution_count": 29,
   "id": "24189e21",
   "metadata": {},
   "outputs": [
    {
     "data": {
      "text/plain": [
       "True"
      ]
     },
     "execution_count": 29,
     "metadata": {},
     "output_type": "execute_result"
    }
   ],
   "source": [
    "inv.has_enough(chocolate)"
   ]
  },
  {
   "cell_type": "code",
   "execution_count": 30,
   "id": "fad4a784",
   "metadata": {},
   "outputs": [
    {
     "name": "stdout",
     "output_type": "stream",
     "text": [
      "Help on built-in function vars in module builtins:\n",
      "\n",
      "vars(...)\n",
      "    vars([object]) -> dictionary\n",
      "    \n",
      "    Without arguments, equivalent to locals().\n",
      "    With an argument, equivalent to object.__dict__.\n",
      "\n"
     ]
    }
   ],
   "source": [
    "help(vars)"
   ]
  },
  {
   "cell_type": "markdown",
   "id": "887316c4",
   "metadata": {},
   "source": [
    "# Python \"under the hood\""
   ]
  },
  {
   "cell_type": "code",
   "execution_count": 31,
   "id": "db4e3b62",
   "metadata": {},
   "outputs": [],
   "source": [
    "class Ingredient:\n",
    "    \"\"\"Functionality to deal with ingredients.\"\"\"\n",
    "\n",
    "    def __init__(self, name, quantity):\n",
    "        self.name = name\n",
    "        self.qty = quantity"
   ]
  },
  {
   "cell_type": "markdown",
   "id": "cbeff25e",
   "metadata": {},
   "source": [
    "The **dunder methods** are functions that start and end with **D**ouble **UNDER**scores.\n",
    "\n",
    "Dunder methods define how objects interact with Python syntax."
   ]
  },
  {
   "cell_type": "code",
   "execution_count": 32,
   "id": "c15807aa",
   "metadata": {},
   "outputs": [],
   "source": [
    "chocolate = Ingredient(\"chocolate\", 3)"
   ]
  },
  {
   "cell_type": "markdown",
   "id": "1ba984b1",
   "metadata": {},
   "source": [
    "Some dunder methods are inherited (automatically) from `object`."
   ]
  },
  {
   "cell_type": "code",
   "execution_count": 33,
   "id": "6ee4c043",
   "metadata": {},
   "outputs": [
    {
     "name": "stdout",
     "output_type": "stream",
     "text": [
      "<__main__.Ingredient object at 0x00000266E5DAA610>\n"
     ]
    }
   ],
   "source": [
    "print(chocolate)"
   ]
  },
  {
   "cell_type": "markdown",
   "id": "334b0727",
   "metadata": {},
   "source": [
    "In order to print an object, you need to define the dunder method `__str__`:"
   ]
  },
  {
   "cell_type": "code",
   "execution_count": 34,
   "id": "06ab8add",
   "metadata": {},
   "outputs": [],
   "source": [
    "class Ingredient:\n",
    "    \"\"\"Functionality to deal with ingredients.\"\"\"\n",
    "\n",
    "    def __init__(self, name, quantity):\n",
    "        self.name = name\n",
    "        self.qty = quantity\n",
    "\n",
    "    def __str__(self):\n",
    "        \"\"\"Dunder method responsible for converting the object into a nice-looking string.\"\"\"\n",
    "        print(\"Inside __str__\")\n",
    "        return f\"{self.qty} of {self.name}\"\n",
    "\n",
    "    def __repr__(self):\n",
    "        \"\"\"Responsible for creating a unambiguous representation of the object.\n",
    "        \n",
    "        Must return a string.\n",
    "        A good rule of thumb is to return a string that looks like the code\n",
    "        to create that object.\n",
    "        (This allows round tripping.)\"\"\"\n",
    "\n",
    "        return f\"Ingredient({self.name!r}, {self.qty!r})\""
   ]
  },
  {
   "cell_type": "code",
   "execution_count": 35,
   "id": "91fe85e8",
   "metadata": {
    "scrolled": false
   },
   "outputs": [
    {
     "data": {
      "text/plain": [
       "[Ingredient('chocolate', 3), Ingredient('rice', 1)]"
      ]
     },
     "execution_count": 35,
     "metadata": {},
     "output_type": "execute_result"
    }
   ],
   "source": [
    "[Ingredient(\"chocolate\", 3), Ingredient(\"rice\", 1)]"
   ]
  },
  {
   "cell_type": "code",
   "execution_count": 36,
   "id": "7575a191",
   "metadata": {},
   "outputs": [
    {
     "name": "stdout",
     "output_type": "stream",
     "text": [
      "Inside __str__\n"
     ]
    },
    {
     "data": {
      "text/plain": [
       "'3 of chocolate'"
      ]
     },
     "execution_count": 36,
     "metadata": {},
     "output_type": "execute_result"
    }
   ],
   "source": [
    "Ingredient(\"chocolate\", 3).__str__()"
   ]
  },
  {
   "cell_type": "code",
   "execution_count": 37,
   "id": "3a7849a3",
   "metadata": {},
   "outputs": [
    {
     "name": "stdout",
     "output_type": "stream",
     "text": [
      "Inside __str__\n"
     ]
    },
    {
     "data": {
      "text/plain": [
       "'3 of chocolate'"
      ]
     },
     "execution_count": 37,
     "metadata": {},
     "output_type": "execute_result"
    }
   ],
   "source": [
    "str(Ingredient(\"chocolate\", 3))"
   ]
  },
  {
   "cell_type": "markdown",
   "id": "61efb14c",
   "metadata": {},
   "source": [
    "Printing calls (implicitly) the `__str__` method.\n",
    "\n",
    "`repr` or being inside containers (like lists) makes it so that the `__repr__` method is called.\n",
    "\n",
    "In the absence of `__str__`, `__repr__` is called."
   ]
  },
  {
   "cell_type": "markdown",
   "id": "015007a4",
   "metadata": {},
   "source": [
    "# Add ingredients to the inventory"
   ]
  },
  {
   "cell_type": "code",
   "execution_count": 38,
   "id": "f465c1c8",
   "metadata": {},
   "outputs": [],
   "source": [
    "class Inventory:\n",
    "    \"\"\"Functionality related to an inventory of ingredients.\"\"\"\n",
    "\n",
    "    def __init__(self, list_of_ingredients):\n",
    "        print(\"Inside the __init__ of Inventory.\")\n",
    "        self.ingredients = list_of_ingredients\n",
    "\n",
    "    def has_enough(self, ingredient):  # `self` is NOT a keyword\n",
    "        for owned_ingredient in self.ingredients:\n",
    "            if owned_ingredient.name == ingredient.name:\n",
    "                return owned_ingredient.qty >= ingredient.qty\n",
    "        return False\n",
    "    \n",
    "    def __repr__(self):\n",
    "        return f\"Inventory({self.ingredients})\"\n",
    "\n",
    "    def add_ingredient(self, other):\n",
    "        \"\"\"`other` is whatever is on the right-hand side of the + sign.\"\"\"\n",
    "        if not isinstance(other, Ingredient):\n",
    "            raise TypeError(f\"Why are you trying to add {other!r} to an inventory?\")\n",
    "        \n",
    "        for ingredient in self.ingredients:\n",
    "            if ingredient.name == other.name:\n",
    "                ingredient.qty += other.qty\n",
    "                return self\n",
    "        # this only runs if the loop is NOT broken out of\n",
    "        self.ingredients.append(other)\n",
    "        return self"
   ]
  },
  {
   "cell_type": "code",
   "execution_count": 39,
   "id": "d7abda9f",
   "metadata": {},
   "outputs": [
    {
     "name": "stdout",
     "output_type": "stream",
     "text": [
      "Inside the __init__ of Inventory.\n"
     ]
    },
    {
     "data": {
      "text/plain": [
       "Inventory([Ingredient('chocolate', 3)])"
      ]
     },
     "execution_count": 39,
     "metadata": {},
     "output_type": "execute_result"
    }
   ],
   "source": [
    "inv = Inventory([])\n",
    "inv.add_ingredient(Ingredient(\"chocolate\", 3))"
   ]
  },
  {
   "cell_type": "markdown",
   "id": "9288a3f4",
   "metadata": {},
   "source": [
    "I want the “add” functionality tied with the syntax of Python; I want to be able to use `+` to add items to my inventory.\n",
    "\n",
    "The dunder method `__add__` is responsible for adding things up:"
   ]
  },
  {
   "cell_type": "code",
   "execution_count": 40,
   "id": "840a7d72",
   "metadata": {},
   "outputs": [],
   "source": [
    "class Inventory:\n",
    "    \"\"\"Functionality related to an inventory of ingredients.\"\"\"\n",
    "\n",
    "    def __init__(self, list_of_ingredients=None):\n",
    "        print(\"Inside the __init__ of Inventory.\")\n",
    "        if list_of_ingredients is None:\n",
    "            list_of_ingredients = []\n",
    "        self.ingredients = list_of_ingredients\n",
    "\n",
    "    def has_enough(self, ingredient):  # `self` is NOT a keyword\n",
    "        for owned_ingredient in self.ingredients:\n",
    "            if owned_ingredient.name == ingredient.name:\n",
    "                return owned_ingredient.qty >= ingredient.qty\n",
    "        return False\n",
    "    \n",
    "    def __repr__(self):\n",
    "        return f\"Inventory({self.ingredients})\"\n",
    "\n",
    "    def __add__(self, other):\n",
    "        \"\"\"`other` is whatever is on the right-hand side of the + sign.\"\"\"\n",
    "        if not isinstance(other, Ingredient):\n",
    "            raise TypeError(f\"Why are you trying to add {other!r} to an inventory?\")\n",
    "        \n",
    "        for ingredient in self.ingredients:\n",
    "            if ingredient.name == other.name:\n",
    "                ingredient.qty += other.qty\n",
    "                return self\n",
    "        # this only runs if the loop is NOT broken out of\n",
    "        self.ingredients.append(other)\n",
    "        return self"
   ]
  },
  {
   "cell_type": "code",
   "execution_count": 41,
   "id": "1befb242",
   "metadata": {},
   "outputs": [
    {
     "name": "stdout",
     "output_type": "stream",
     "text": [
      "Inside the __init__ of Inventory.\n"
     ]
    },
    {
     "data": {
      "text/plain": [
       "Inventory([Ingredient('chocolate', 3)])"
      ]
     },
     "execution_count": 41,
     "metadata": {},
     "output_type": "execute_result"
    }
   ],
   "source": [
    "inv = Inventory()\n",
    "inv + Ingredient(\"chocolate\", 3)"
   ]
  },
  {
   "cell_type": "markdown",
   "id": "c0782913",
   "metadata": {},
   "source": [
    "(Usually, ) Addition is commutative."
   ]
  },
  {
   "cell_type": "code",
   "execution_count": 43,
   "id": "8a7d89b7",
   "metadata": {},
   "outputs": [
    {
     "ename": "TypeError",
     "evalue": "unsupported operand type(s) for +: 'Ingredient' and 'Inventory'",
     "output_type": "error",
     "traceback": [
      "\u001b[1;31m---------------------------------------------------------------------------\u001b[0m",
      "\u001b[1;31mTypeError\u001b[0m                                 Traceback (most recent call last)",
      "\u001b[1;32m~\\AppData\\Local\\Temp/ipykernel_27456/3349037378.py\u001b[0m in \u001b[0;36m<module>\u001b[1;34m\u001b[0m\n\u001b[0;32m      1\u001b[0m \u001b[0mchocolate\u001b[0m \u001b[1;33m=\u001b[0m \u001b[0mIngredient\u001b[0m\u001b[1;33m(\u001b[0m\u001b[1;34m\"chocolate\"\u001b[0m\u001b[1;33m,\u001b[0m \u001b[1;36m3\u001b[0m\u001b[1;33m)\u001b[0m\u001b[1;33m\u001b[0m\u001b[1;33m\u001b[0m\u001b[0m\n\u001b[1;32m----> 2\u001b[1;33m \u001b[0mchocolate\u001b[0m \u001b[1;33m+\u001b[0m \u001b[0minv\u001b[0m\u001b[1;33m\u001b[0m\u001b[1;33m\u001b[0m\u001b[0m\n\u001b[0m\u001b[0;32m      3\u001b[0m \u001b[1;31m# chocolate.__add__(inv)\u001b[0m\u001b[1;33m\u001b[0m\u001b[1;33m\u001b[0m\u001b[0m\n",
      "\u001b[1;31mTypeError\u001b[0m: unsupported operand type(s) for +: 'Ingredient' and 'Inventory'"
     ]
    }
   ],
   "source": [
    "chocolate = Ingredient(\"chocolate\", 3)\n",
    "chocolate + inv\n",
    "# chocolate.__add__(inv)"
   ]
  },
  {
   "cell_type": "markdown",
   "id": "5210877a",
   "metadata": {},
   "source": [
    "The `__radd__` method stands for **r**ight add, and is called when the object is on the right-hand side of an addition (that failed)."
   ]
  },
  {
   "cell_type": "code",
   "execution_count": 44,
   "id": "14c7d065",
   "metadata": {},
   "outputs": [],
   "source": [
    "class Inventory:\n",
    "    \"\"\"Functionality related to an inventory of ingredients.\"\"\"\n",
    "\n",
    "    def __init__(self, list_of_ingredients=None):\n",
    "        if list_of_ingredients is None:\n",
    "            list_of_ingredients = []\n",
    "        self.ingredients = list_of_ingredients\n",
    "\n",
    "    def has_enough(self, ingredient):  # `self` is NOT a keyword\n",
    "        for owned_ingredient in self.ingredients:\n",
    "            if owned_ingredient.name == ingredient.name:\n",
    "                return owned_ingredient.qty >= ingredient.qty\n",
    "        return False\n",
    "    \n",
    "    def __repr__(self):\n",
    "        return f\"Inventory({self.ingredients})\"\n",
    "\n",
    "    def __add__(self, other):\n",
    "        \"\"\"`other` is whatever is on the right-hand side of the + sign.\"\"\"\n",
    "\n",
    "        if not isinstance(other, Ingredient):\n",
    "            raise TypeError(f\"Why are you trying to add {other!r} to an inventory?\")\n",
    "        \n",
    "        for ingredient in self.ingredients:\n",
    "            if ingredient.name == other.name:\n",
    "                ingredient.qty += other.qty\n",
    "                return self\n",
    "        # this only runs if the loop is NOT broken out of\n",
    "        self.ingredients.append(other)\n",
    "        return self\n",
    "\n",
    "    def __radd__(self, other):\n",
    "        \"\"\"other + self failed, and inventory is given the chance to add.\"\"\"\n",
    "        return self.__add__(other)"
   ]
  },
  {
   "cell_type": "code",
   "execution_count": 45,
   "id": "89b1b939",
   "metadata": {},
   "outputs": [
    {
     "data": {
      "text/plain": [
       "Inventory([Ingredient('chocolate', 3)])"
      ]
     },
     "execution_count": 45,
     "metadata": {},
     "output_type": "execute_result"
    }
   ],
   "source": [
    "inv = Inventory()\n",
    "chocolate = Ingredient(\"chocolate\", 3)\n",
    "chocolate + inv"
   ]
  },
  {
   "cell_type": "code",
   "execution_count": 46,
   "id": "4cc59ae2",
   "metadata": {},
   "outputs": [
    {
     "ename": "TypeError",
     "evalue": "'Inventory' object is not iterable",
     "output_type": "error",
     "traceback": [
      "\u001b[1;31m---------------------------------------------------------------------------\u001b[0m",
      "\u001b[1;31mTypeError\u001b[0m                                 Traceback (most recent call last)",
      "\u001b[1;32m~\\AppData\\Local\\Temp/ipykernel_27456/2911222778.py\u001b[0m in \u001b[0;36m<module>\u001b[1;34m\u001b[0m\n\u001b[0;32m      5\u001b[0m ])\n\u001b[0;32m      6\u001b[0m \u001b[1;33m\u001b[0m\u001b[0m\n\u001b[1;32m----> 7\u001b[1;33m \u001b[1;32mfor\u001b[0m \u001b[0mingredient\u001b[0m \u001b[1;32min\u001b[0m \u001b[0minv\u001b[0m\u001b[1;33m:\u001b[0m\u001b[1;33m\u001b[0m\u001b[1;33m\u001b[0m\u001b[0m\n\u001b[0m\u001b[0;32m      8\u001b[0m     \u001b[0mprint\u001b[0m\u001b[1;33m(\u001b[0m\u001b[0mingredient\u001b[0m\u001b[1;33m)\u001b[0m\u001b[1;33m\u001b[0m\u001b[1;33m\u001b[0m\u001b[0m\n",
      "\u001b[1;31mTypeError\u001b[0m: 'Inventory' object is not iterable"
     ]
    }
   ],
   "source": [
    "inv = Inventory([\n",
    "    Ingredient(\"kumara\", 3),\n",
    "    Ingredient(\"rice\", 1),\n",
    "    Ingredient(\"chocolate\", 3),\n",
    "])\n",
    "\n",
    "for ingredient in inv:\n",
    "    print(ingredient)"
   ]
  },
  {
   "cell_type": "markdown",
   "id": "97f113c5",
   "metadata": {},
   "source": [
    "To make an object iterable, you implement the `__iter__` method:"
   ]
  },
  {
   "cell_type": "code",
   "execution_count": 51,
   "id": "c61fd641",
   "metadata": {},
   "outputs": [],
   "source": [
    "class Inventory:\n",
    "    \"\"\"Functionality related to an inventory of ingredients.\"\"\"\n",
    "\n",
    "    def __init__(self, list_of_ingredients=None):\n",
    "        if list_of_ingredients is None:\n",
    "            list_of_ingredients = []\n",
    "        self.ingredients = list_of_ingredients\n",
    "\n",
    "    def has_enough(self, ingredient):  # `self` is NOT a keyword\n",
    "        for owned_ingredient in self.ingredients:\n",
    "            if owned_ingredient.name == ingredient.name:\n",
    "                return owned_ingredient.qty >= ingredient.qty\n",
    "        return False\n",
    "    \n",
    "    def __repr__(self):\n",
    "        return f\"Inventory({self.ingredients})\"\n",
    "\n",
    "    def __iter__(self):\n",
    "        \"\"\"Either return an iterable or implement a generator.\"\"\"\n",
    "        for ingredient in self.ingredients:\n",
    "            yield ingredient"
   ]
  },
  {
   "cell_type": "code",
   "execution_count": 52,
   "id": "4290f32b",
   "metadata": {},
   "outputs": [
    {
     "name": "stdout",
     "output_type": "stream",
     "text": [
      "Inside __str__\n",
      "3 of kumara\n",
      "Inside __str__\n",
      "1 of rice\n",
      "Inside __str__\n",
      "3 of chocolate\n"
     ]
    }
   ],
   "source": [
    "inv = Inventory([\n",
    "    Ingredient(\"kumara\", 3),\n",
    "    Ingredient(\"rice\", 1),\n",
    "    Ingredient(\"chocolate\", 3),\n",
    "])\n",
    "\n",
    "for ingredient in inv:\n",
    "    print(ingredient)\n",
    "\n",
    "# Ingredient(\"chocolate\", 2) in inv  # Is there enough of this ingredient in the inventory?"
   ]
  },
  {
   "cell_type": "markdown",
   "id": "c9f372bb",
   "metadata": {},
   "source": [
    "The `__contains__` method is used for membership checking:"
   ]
  },
  {
   "cell_type": "code",
   "execution_count": 53,
   "id": "a6f33245",
   "metadata": {},
   "outputs": [],
   "source": [
    "class Inventory:\n",
    "    \"\"\"Functionality related to an inventory of ingredients.\"\"\"\n",
    "\n",
    "    def __init__(self, list_of_ingredients=None):\n",
    "        if list_of_ingredients is None:\n",
    "            list_of_ingredients = []\n",
    "        self.ingredients = list_of_ingredients\n",
    "\n",
    "    def __contains__(self, ingredient):\n",
    "        for owned_ingredient in self.ingredients:\n",
    "            if owned_ingredient.name == ingredient.name:\n",
    "                return owned_ingredient.qty >= ingredient.qty\n",
    "        return False\n",
    "    \n",
    "    def __repr__(self):\n",
    "        return f\"Inventory({self.ingredients})\""
   ]
  },
  {
   "cell_type": "code",
   "execution_count": 55,
   "id": "1875fcf7",
   "metadata": {},
   "outputs": [
    {
     "name": "stdout",
     "output_type": "stream",
     "text": [
      "False\n",
      "True\n"
     ]
    }
   ],
   "source": [
    "inv = Inventory([\n",
    "    Ingredient(\"kumara\", 3),\n",
    "    Ingredient(\"rice\", 1),\n",
    "    Ingredient(\"chocolate\", 3),\n",
    "])\n",
    "\n",
    "print(Ingredient(\"chocolate\", 4) in inv)  # Is there enough of this ingredient in the inventory?\n",
    "print(Ingredient(\"chocolate\", 2) in inv)"
   ]
  },
  {
   "cell_type": "code",
   "execution_count": null,
   "id": "9ca8cef5",
   "metadata": {},
   "outputs": [],
   "source": []
  }
 ],
 "metadata": {
  "kernelspec": {
   "display_name": "Python 3 (ipykernel)",
   "language": "python",
   "name": "python3"
  },
  "language_info": {
   "codemirror_mode": {
    "name": "ipython",
    "version": 3
   },
   "file_extension": ".py",
   "mimetype": "text/x-python",
   "name": "python",
   "nbconvert_exporter": "python",
   "pygments_lexer": "ipython3",
   "version": "3.9.7"
  },
  "toc": {
   "base_numbering": 1,
   "nav_menu": {},
   "number_sections": false,
   "sideBar": true,
   "skip_h1_title": true,
   "title_cell": "Table of Contents",
   "title_sidebar": "Contents",
   "toc_cell": false,
   "toc_position": {},
   "toc_section_display": true,
   "toc_window_display": false
  }
 },
 "nbformat": 4,
 "nbformat_minor": 5
}
